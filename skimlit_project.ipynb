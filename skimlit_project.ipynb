{
  "cells": [
    {
      "cell_type": "markdown",
      "metadata": {
        "id": "elPAg_bGQ8s0"
      },
      "source": [
        "# SkimLit NLP Project"
      ]
    },
    {
      "cell_type": "code",
      "execution_count": 9,
      "metadata": {
        "id": "dyFyqiVJQ8s3"
      },
      "outputs": [],
      "source": [
        "# import the required libraries\n",
        "\n",
        "import tensorflow as tf"
      ]
    },
    {
      "cell_type": "markdown",
      "metadata": {
        "id": "cSFKQoqYQ8s5"
      },
      "source": [
        "## Get the required Data Sets"
      ]
    },
    {
      "cell_type": "code",
      "execution_count": 10,
      "metadata": {
        "colab": {
          "base_uri": "https://localhost:8080/"
        },
        "id": "XI1D_K3gQ8s6",
        "outputId": "209f5382-e959-4f50-8a53-d4991ef6e2e2"
      },
      "outputs": [
        {
          "name": "stdout",
          "output_type": "stream",
          "text": [
            "Cloning into 'pubmed-rct'...\n",
            "remote: Enumerating objects: 33, done.\u001b[K\n",
            "remote: Counting objects: 100% (8/8), done.\u001b[K\n",
            "remote: Compressing objects: 100% (3/3), done.\u001b[K\n",
            "remote: Total 33 (delta 5), reused 5 (delta 5), pack-reused 25\u001b[K\n",
            "Unpacking objects: 100% (33/33), done.\n"
          ]
        }
      ],
      "source": [
        "# Download the datasets\n",
        "\n",
        "!git clone https://github.com/Franck-Dernoncourt/pubmed-rct.git"
      ]
    },
    {
      "cell_type": "code",
      "execution_count": 11,
      "metadata": {
        "colab": {
          "base_uri": "https://localhost:8080/"
        },
        "id": "QGc-sYNCQ8s7",
        "outputId": "13b4375f-cece-4a7d-e2d9-8f26048af6e0"
      },
      "outputs": [
        {
          "name": "stdout",
          "output_type": "stream",
          "text": [
            "dev.txt  test.txt  train.txt\n"
          ]
        }
      ],
      "source": [
        "# Check the content of the downloaded files\n",
        "!ls pubmed-rct/PubMed_20k_RCT_numbers_replaced_with_at_sign"
      ]
    },
    {
      "cell_type": "markdown",
      "metadata": {
        "id": "QYJXmTGcQ8s7"
      },
      "source": [
        "## Great! Looks like the data is already splitted into train, test and dev (validate) data"
      ]
    },
    {
      "cell_type": "markdown",
      "metadata": {
        "id": "YRWKvBB7Q8s8"
      },
      "source": [
        "### We will start our experiments using the Pubmed dataset with 20K RCT numbers replaced with @ sign"
      ]
    },
    {
      "cell_type": "code",
      "execution_count": 12,
      "metadata": {
        "colab": {
          "base_uri": "https://localhost:8080/"
        },
        "id": "V7wBKZjqQ8s9",
        "outputId": "30de5403-a8ee-4dce-bde6-16994a48bff0"
      },
      "outputs": [
        {
          "data": {
            "text/plain": [
              "['pubmed-rct/PubMed_20k_RCT_numbers_replaced_with_at_sign/dev.txt',\n",
              " 'pubmed-rct/PubMed_20k_RCT_numbers_replaced_with_at_sign/train.txt',\n",
              " 'pubmed-rct/PubMed_20k_RCT_numbers_replaced_with_at_sign/test.txt']"
            ]
          },
          "execution_count": 12,
          "metadata": {},
          "output_type": "execute_result"
        }
      ],
      "source": [
        "# Get the directory\n",
        "\n",
        "data_dir = \"pubmed-rct/PubMed_20k_RCT_numbers_replaced_with_at_sign\"\n",
        "\n",
        "# Check the names of the files in the directory\n",
        "\n",
        "import os\n",
        "\n",
        "filenames = [data_dir + \"/\" + filename for filename in os.listdir(data_dir)]\n",
        "\n",
        "filenames"
      ]
    },
    {
      "cell_type": "markdown",
      "metadata": {
        "id": "rybE07_KQ8s-"
      },
      "source": [
        "## Preprocess the data"
      ]
    },
    {
      "cell_type": "code",
      "execution_count": 13,
      "metadata": {
        "id": "rGe04XtAQ8s-"
      },
      "outputs": [],
      "source": [
        "# Visualize the data by reading the lines of the documents\n",
        "\n",
        "def get_lines(filename):\n",
        "    \"\"\"\n",
        "    Reads a filename, and returns the lines of the textfile as a list\n",
        "\n",
        "    Args:\n",
        "    - filename: a string containg the file path\n",
        "\n",
        "    Returns:\n",
        "    - A list of strings with one string per line in the filename\n",
        "    \"\"\"\n",
        "\n",
        "    with open(filename, \"r\") as file:\n",
        "        return file.readlines()\n",
        "\n",
        "\n"
      ]
    },
    {
      "cell_type": "code",
      "execution_count": 14,
      "metadata": {
        "colab": {
          "base_uri": "https://localhost:8080/"
        },
        "id": "tvexEql-Q8s_",
        "outputId": "358c531c-8ba6-49b2-dc36-2d16af766efb"
      },
      "outputs": [
        {
          "data": {
            "text/plain": [
              "['###24293578\\n',\n",
              " 'OBJECTIVE\\tTo investigate the efficacy of @ weeks of daily low-dose oral prednisolone in improving pain , mobility , and systemic low-grade inflammation in the short term and whether the effect would be sustained at @ weeks in older adults with moderate to severe knee osteoarthritis ( OA ) .\\n',\n",
              " 'METHODS\\tA total of @ patients with primary knee OA were randomized @:@ ; @ received @ mg/day of prednisolone and @ received placebo for @ weeks .\\n',\n",
              " 'METHODS\\tOutcome measures included pain reduction and improvement in function scores and systemic inflammation markers .\\n',\n",
              " 'METHODS\\tPain was assessed using the visual analog pain scale ( @-@ mm ) .\\n',\n",
              " 'METHODS\\tSecondary outcome measures included the Western Ontario and McMaster Universities Osteoarthritis Index scores , patient global assessment ( PGA ) of the severity of knee OA , and @-min walk distance ( @MWD ) .\\n',\n",
              " 'METHODS\\tSerum levels of interleukin @ ( IL-@ ) , IL-@ , tumor necrosis factor ( TNF ) - , and high-sensitivity C-reactive protein ( hsCRP ) were measured .\\n',\n",
              " 'RESULTS\\tThere was a clinically relevant reduction in the intervention group compared to the placebo group for knee pain , physical function , PGA , and @MWD at @ weeks .\\n',\n",
              " 'RESULTS\\tThe mean difference between treatment arms ( @ % CI ) was @ ( @-@ @ ) , p < @ ; @ ( @-@ @ ) , p < @ ; @ ( @-@ @ ) , p < @ ; and @ ( @-@ @ ) , p < @ , respectively .\\n',\n",
              " 'RESULTS\\tFurther , there was a clinically relevant reduction in the serum levels of IL-@ , IL-@ , TNF - , and hsCRP at @ weeks in the intervention group when compared to the placebo group .\\n',\n",
              " 'RESULTS\\tThese differences remained significant at @ weeks .\\n',\n",
              " 'RESULTS\\tThe Outcome Measures in Rheumatology Clinical Trials-Osteoarthritis Research Society International responder rate was @ % in the intervention group and @ % in the placebo group ( p < @ ) .\\n',\n",
              " 'CONCLUSIONS\\tLow-dose oral prednisolone had both a short-term and a longer sustained effect resulting in less knee pain , better physical function , and attenuation of systemic inflammation in older patients with knee OA ( ClinicalTrials.gov identifier NCT@ ) .\\n',\n",
              " '\\n',\n",
              " '###24854809\\n',\n",
              " 'BACKGROUND\\tEmotional eating is associated with overeating and the development of obesity .\\n',\n",
              " 'BACKGROUND\\tYet , empirical evidence for individual ( trait ) differences in emotional eating and cognitive mechanisms that contribute to eating during sad mood remain equivocal .\\n',\n",
              " 'OBJECTIVE\\tThe aim of this study was to test if attention bias for food moderates the effect of self-reported emotional eating during sad mood ( vs neutral mood ) on actual food intake .\\n',\n",
              " 'OBJECTIVE\\tIt was expected that emotional eating is predictive of elevated attention for food and higher food intake after an experimentally induced sad mood and that attentional maintenance on food predicts food intake during a sad versus a neutral mood .\\n',\n",
              " 'METHODS\\tParticipants ( N = @ ) were randomly assigned to one of the two experimental mood induction conditions ( sad/neutral ) .\\n']"
            ]
          },
          "execution_count": 14,
          "metadata": {},
          "output_type": "execute_result"
        }
      ],
      "source": [
        "# Read the training lines\n",
        "\n",
        "training_lines = get_lines(data_dir + \"/train.txt\")\n",
        "training_lines[:20]"
      ]
    },
    {
      "cell_type": "code",
      "execution_count": 15,
      "metadata": {
        "colab": {
          "base_uri": "https://localhost:8080/"
        },
        "id": "S802gVecQ8tA",
        "outputId": "c0656240-3f07-4947-e123-b32e691e7a03"
      },
      "outputs": [
        {
          "data": {
            "text/plain": [
              "210040"
            ]
          },
          "execution_count": 15,
          "metadata": {},
          "output_type": "execute_result"
        }
      ],
      "source": [
        "# Lets see the length of the training_lines\n",
        "\n",
        "len(training_lines)"
      ]
    },
    {
      "cell_type": "markdown",
      "metadata": {
        "id": "KyEqAflGQ8tB"
      },
      "source": [
        "We need to split the label from the value in the training data (lines)\n",
        "We could do this easily by implementing a dictionary"
      ]
    },
    {
      "cell_type": "code",
      "execution_count": 16,
      "metadata": {
        "id": "Qm2eYkLcQ8tD"
      },
      "outputs": [],
      "source": [
        "# Write a function to do the splitting\n",
        "\n",
        "def preprocess_text_with_line_numbers(filename):\n",
        "    \"\"\"\n",
        "    Takes in the filename, reads its contents and sorts through each line \n",
        "    Args:\n",
        "    - filename: a string containg the file path\n",
        "    Returns:\n",
        "    - A list of dictionaries of abstract data\n",
        "    \"\"\"\n",
        "\n",
        "    input_lines = get_lines(filename)   # get the lines in the file\n",
        "    abstract_lines = \"\"                 # initialize the container for the sample lines\n",
        "    abstract_samples =  []              # initialize the container for the dictionaries\n",
        "\n",
        "    # Loop through each line in the target file\n",
        "\n",
        "    for line in input_lines:\n",
        "        if line.startswith(\"###\"):\n",
        "            abstract_id = line\n",
        "            abstract_lines = \"\" # reset the abstract_lines \n",
        "        elif line.isspace():\n",
        "            abstract_line_split = abstract_lines.splitlines()    # split the lines to prepare for dictionary making (reached end of sample)\n",
        "            for abstract_line_number, abstract_line in enumerate(abstract_line_split):\n",
        "                line_data = {}  # initialize the dictionary\n",
        "                target_text_split = abstract_line.split(\"\\t\")\n",
        "                line_data[\"target\"] = target_text_split[0]\n",
        "                line_data[\"text\"] = target_text_split[1].lower()\n",
        "                line_data[\"line_number\"] = abstract_line_number\n",
        "                line_data[\"total_lines\"] = len(abstract_line_split) - 1     # how many total lines are in a sample\n",
        "                abstract_samples.append(line_data)\n",
        "        else:\n",
        "            abstract_lines += line\n",
        "\n",
        "    return abstract_samples"
      ]
    },
    {
      "cell_type": "code",
      "execution_count": 17,
      "metadata": {
        "id": "edJG5ynDQ8tE"
      },
      "outputs": [],
      "source": [
        "# Get data from file and preprocess it\n",
        "\n",
        "train_samples = preprocess_text_with_line_numbers(data_dir + \"/train.txt\")\n",
        "val_samples = preprocess_text_with_line_numbers(data_dir + \"/dev.txt\")\n",
        "test_samples = preprocess_text_with_line_numbers(data_dir + \"/test.txt\")"
      ]
    },
    {
      "cell_type": "code",
      "execution_count": 18,
      "metadata": {
        "colab": {
          "base_uri": "https://localhost:8080/"
        },
        "id": "XnBx6D4gQ8tF",
        "outputId": "4f9f26ee-9762-4095-830a-210424272366"
      },
      "outputs": [
        {
          "name": "stdout",
          "output_type": "stream",
          "text": [
            "180040 30212 30135\n"
          ]
        },
        {
          "data": {
            "text/plain": [
              "({'line_number': 0,\n",
              "  'target': 'OBJECTIVE',\n",
              "  'text': 'to investigate the efficacy of @ weeks of daily low-dose oral prednisolone in improving pain , mobility , and systemic low-grade inflammation in the short term and whether the effect would be sustained at @ weeks in older adults with moderate to severe knee osteoarthritis ( oa ) .',\n",
              "  'total_lines': 11},\n",
              " {'line_number': 0,\n",
              "  'target': 'BACKGROUND',\n",
              "  'text': 'ige sensitization to aspergillus fumigatus and a positive sputum fungal culture result are common in patients with refractory asthma .',\n",
              "  'total_lines': 9},\n",
              " {'line_number': 0,\n",
              "  'target': 'BACKGROUND',\n",
              "  'text': 'this study analyzed liver function abnormalities in heart failure patients admitted with severe acute decompensated heart failure ( adhf ) .',\n",
              "  'total_lines': 8})"
            ]
          },
          "execution_count": 18,
          "metadata": {},
          "output_type": "execute_result"
        }
      ],
      "source": [
        "# Get the data from the required files and create samples of them\n",
        "\n",
        "print(len(train_samples), len(val_samples), len(test_samples))\n",
        "train_samples[0], val_samples[0], test_samples[0] "
      ]
    },
    {
      "cell_type": "markdown",
      "metadata": {
        "id": "Bqf11GMeQ8tH"
      },
      "source": [
        "### Turn the data into a dataframe to help visualize it"
      ]
    },
    {
      "cell_type": "code",
      "execution_count": 19,
      "metadata": {
        "colab": {
          "base_uri": "https://localhost:8080/",
          "height": 710
        },
        "id": "gJr-0t9bQ8tI",
        "outputId": "99c4ab71-7920-43c9-e93f-4a1a1d356f62"
      },
      "outputs": [
        {
          "data": {
            "text/html": [
              "\n",
              "  <div id=\"df-da12617f-07d1-4423-979d-c792c8eca3f9\">\n",
              "    <div class=\"colab-df-container\">\n",
              "      <div>\n",
              "<style scoped>\n",
              "    .dataframe tbody tr th:only-of-type {\n",
              "        vertical-align: middle;\n",
              "    }\n",
              "\n",
              "    .dataframe tbody tr th {\n",
              "        vertical-align: top;\n",
              "    }\n",
              "\n",
              "    .dataframe thead th {\n",
              "        text-align: right;\n",
              "    }\n",
              "</style>\n",
              "<table border=\"1\" class=\"dataframe\">\n",
              "  <thead>\n",
              "    <tr style=\"text-align: right;\">\n",
              "      <th></th>\n",
              "      <th>target</th>\n",
              "      <th>text</th>\n",
              "      <th>line_number</th>\n",
              "      <th>total_lines</th>\n",
              "    </tr>\n",
              "  </thead>\n",
              "  <tbody>\n",
              "    <tr>\n",
              "      <th>0</th>\n",
              "      <td>OBJECTIVE</td>\n",
              "      <td>to investigate the efficacy of @ weeks of dail...</td>\n",
              "      <td>0</td>\n",
              "      <td>11</td>\n",
              "    </tr>\n",
              "    <tr>\n",
              "      <th>1</th>\n",
              "      <td>METHODS</td>\n",
              "      <td>a total of @ patients with primary knee oa wer...</td>\n",
              "      <td>1</td>\n",
              "      <td>11</td>\n",
              "    </tr>\n",
              "    <tr>\n",
              "      <th>2</th>\n",
              "      <td>METHODS</td>\n",
              "      <td>outcome measures included pain reduction and i...</td>\n",
              "      <td>2</td>\n",
              "      <td>11</td>\n",
              "    </tr>\n",
              "    <tr>\n",
              "      <th>3</th>\n",
              "      <td>METHODS</td>\n",
              "      <td>pain was assessed using the visual analog pain...</td>\n",
              "      <td>3</td>\n",
              "      <td>11</td>\n",
              "    </tr>\n",
              "    <tr>\n",
              "      <th>4</th>\n",
              "      <td>METHODS</td>\n",
              "      <td>secondary outcome measures included the wester...</td>\n",
              "      <td>4</td>\n",
              "      <td>11</td>\n",
              "    </tr>\n",
              "  </tbody>\n",
              "</table>\n",
              "</div>\n",
              "      <button class=\"colab-df-convert\" onclick=\"convertToInteractive('df-da12617f-07d1-4423-979d-c792c8eca3f9')\"\n",
              "              title=\"Convert this dataframe to an interactive table.\"\n",
              "              style=\"display:none;\">\n",
              "        \n",
              "  <svg xmlns=\"http://www.w3.org/2000/svg\" height=\"24px\"viewBox=\"0 0 24 24\"\n",
              "       width=\"24px\">\n",
              "    <path d=\"M0 0h24v24H0V0z\" fill=\"none\"/>\n",
              "    <path d=\"M18.56 5.44l.94 2.06.94-2.06 2.06-.94-2.06-.94-.94-2.06-.94 2.06-2.06.94zm-11 1L8.5 8.5l.94-2.06 2.06-.94-2.06-.94L8.5 2.5l-.94 2.06-2.06.94zm10 10l.94 2.06.94-2.06 2.06-.94-2.06-.94-.94-2.06-.94 2.06-2.06.94z\"/><path d=\"M17.41 7.96l-1.37-1.37c-.4-.4-.92-.59-1.43-.59-.52 0-1.04.2-1.43.59L10.3 9.45l-7.72 7.72c-.78.78-.78 2.05 0 2.83L4 21.41c.39.39.9.59 1.41.59.51 0 1.02-.2 1.41-.59l7.78-7.78 2.81-2.81c.8-.78.8-2.07 0-2.86zM5.41 20L4 18.59l7.72-7.72 1.47 1.35L5.41 20z\"/>\n",
              "  </svg>\n",
              "      </button>\n",
              "      \n",
              "  <style>\n",
              "    .colab-df-container {\n",
              "      display:flex;\n",
              "      flex-wrap:wrap;\n",
              "      gap: 12px;\n",
              "    }\n",
              "\n",
              "    .colab-df-convert {\n",
              "      background-color: #E8F0FE;\n",
              "      border: none;\n",
              "      border-radius: 50%;\n",
              "      cursor: pointer;\n",
              "      display: none;\n",
              "      fill: #1967D2;\n",
              "      height: 32px;\n",
              "      padding: 0 0 0 0;\n",
              "      width: 32px;\n",
              "    }\n",
              "\n",
              "    .colab-df-convert:hover {\n",
              "      background-color: #E2EBFA;\n",
              "      box-shadow: 0px 1px 2px rgba(60, 64, 67, 0.3), 0px 1px 3px 1px rgba(60, 64, 67, 0.15);\n",
              "      fill: #174EA6;\n",
              "    }\n",
              "\n",
              "    [theme=dark] .colab-df-convert {\n",
              "      background-color: #3B4455;\n",
              "      fill: #D2E3FC;\n",
              "    }\n",
              "\n",
              "    [theme=dark] .colab-df-convert:hover {\n",
              "      background-color: #434B5C;\n",
              "      box-shadow: 0px 1px 3px 1px rgba(0, 0, 0, 0.15);\n",
              "      filter: drop-shadow(0px 1px 2px rgba(0, 0, 0, 0.3));\n",
              "      fill: #FFFFFF;\n",
              "    }\n",
              "  </style>\n",
              "\n",
              "      <script>\n",
              "        const buttonEl =\n",
              "          document.querySelector('#df-da12617f-07d1-4423-979d-c792c8eca3f9 button.colab-df-convert');\n",
              "        buttonEl.style.display =\n",
              "          google.colab.kernel.accessAllowed ? 'block' : 'none';\n",
              "\n",
              "        async function convertToInteractive(key) {\n",
              "          const element = document.querySelector('#df-da12617f-07d1-4423-979d-c792c8eca3f9');\n",
              "          const dataTable =\n",
              "            await google.colab.kernel.invokeFunction('convertToInteractive',\n",
              "                                                     [key], {});\n",
              "          if (!dataTable) return;\n",
              "\n",
              "          const docLinkHtml = 'Like what you see? Visit the ' +\n",
              "            '<a target=\"_blank\" href=https://colab.research.google.com/notebooks/data_table.ipynb>data table notebook</a>'\n",
              "            + ' to learn more about interactive tables.';\n",
              "          element.innerHTML = '';\n",
              "          dataTable['output_type'] = 'display_data';\n",
              "          await google.colab.output.renderOutput(dataTable, element);\n",
              "          const docLink = document.createElement('div');\n",
              "          docLink.innerHTML = docLinkHtml;\n",
              "          element.appendChild(docLink);\n",
              "        }\n",
              "      </script>\n",
              "    </div>\n",
              "  </div>\n",
              "  "
            ],
            "text/plain": [
              "      target                                               text  line_number  \\\n",
              "0  OBJECTIVE  to investigate the efficacy of @ weeks of dail...            0   \n",
              "1    METHODS  a total of @ patients with primary knee oa wer...            1   \n",
              "2    METHODS  outcome measures included pain reduction and i...            2   \n",
              "3    METHODS  pain was assessed using the visual analog pain...            3   \n",
              "4    METHODS  secondary outcome measures included the wester...            4   \n",
              "\n",
              "   total_lines  \n",
              "0           11  \n",
              "1           11  \n",
              "2           11  \n",
              "3           11  \n",
              "4           11  "
            ]
          },
          "execution_count": 19,
          "metadata": {},
          "output_type": "execute_result"
        }
      ],
      "source": [
        "# import pandas\n",
        "import pandas as pd\n",
        "\n",
        "train_df = pd.DataFrame(train_samples)\n",
        "val_df = pd.DataFrame(val_samples)\n",
        "test_df = pd.DataFrame(test_samples)\n",
        "\n",
        "train_df.head()"
      ]
    },
    {
      "cell_type": "code",
      "execution_count": 20,
      "metadata": {
        "colab": {
          "base_uri": "https://localhost:8080/"
        },
        "id": "341sepcTQ8tJ",
        "outputId": "6fc41989-b81a-40ea-f97f-9c6c48ca74ca"
      },
      "outputs": [
        {
          "data": {
            "text/plain": [
              "METHODS        59353\n",
              "RESULTS        57953\n",
              "CONCLUSIONS    27168\n",
              "BACKGROUND     21727\n",
              "OBJECTIVE      13839\n",
              "Name: target, dtype: int64"
            ]
          },
          "execution_count": 20,
          "metadata": {},
          "output_type": "execute_result"
        }
      ],
      "source": [
        "# Distribution of labels in training data\n",
        "\n",
        "train_df.target.value_counts()"
      ]
    },
    {
      "cell_type": "markdown",
      "metadata": {
        "id": "QURyv-LUQ8tL"
      },
      "source": [
        "Even though there are not close, but it is negligible"
      ]
    },
    {
      "cell_type": "code",
      "execution_count": 21,
      "metadata": {
        "colab": {
          "base_uri": "https://localhost:8080/",
          "height": 71
        },
        "id": "Tr1zGflXQ8tM",
        "outputId": "dfd40c52-bd3c-46d1-eba4-72697229a2e3"
      },
      "outputs": [
        {
          "data": {
            "text/plain": [
              "<matplotlib.axes._subplots.AxesSubplot at 0x7fa4a2a01890>"
            ]
          },
          "execution_count": 21,
          "metadata": {},
          "output_type": "execute_result"
        },
        {
          "data": {
            "image/png": "[encoded data removed]",
            "text/plain": [
              "<Figure size 432x288 with 1 Axes>"
            ]
          },
          "metadata": {
            "needs_background": "light"
          },
          "output_type": "display_data"
        }
      ],
      "source": [
        "# Check the length of different lines\n",
        "\n",
        "train_df.total_lines.plot.hist()"
      ]
    },
    {
      "cell_type": "markdown",
      "metadata": {
        "id": "c3Y3kwp4Q8tO"
      },
      "source": [
        "We see that most samples are of approx 10 lines "
      ]
    },
    {
      "cell_type": "markdown",
      "metadata": {
        "id": "hKIN9798Q8tP"
      },
      "source": [
        "### Get lists of sentences"
      ]
    },
    {
      "cell_type": "code",
      "execution_count": 22,
      "metadata": {
        "colab": {
          "base_uri": "https://localhost:8080/"
        },
        "id": "5k-8JgvmQ8tQ",
        "outputId": "984b68a4-709d-4864-cd3b-6b3f08dbf90d"
      },
      "outputs": [
        {
          "data": {
            "text/plain": [
              "(180040, 30212, 30135)"
            ]
          },
          "execution_count": 22,
          "metadata": {},
          "output_type": "execute_result"
        }
      ],
      "source": [
        "# Convert abstract text lines into lists\n",
        "\n",
        "train_sentences = train_df[\"text\"].tolist()\n",
        "val_sentences = val_df[\"text\"].tolist()\n",
        "test_sentences = test_df[\"text\"].tolist()\n",
        "\n",
        "len(train_sentences), len(val_sentences), len(test_sentences)"
      ]
    },
    {
      "cell_type": "code",
      "execution_count": 23,
      "metadata": {
        "colab": {
          "base_uri": "https://localhost:8080/"
        },
        "id": "paK6f7bkQ8tR",
        "outputId": "7863b836-f286-40ae-a596-828458864578"
      },
      "outputs": [
        {
          "data": {
            "text/plain": [
              "['to investigate the efficacy of @ weeks of daily low-dose oral prednisolone in improving pain , mobility , and systemic low-grade inflammation in the short term and whether the effect would be sustained at @ weeks in older adults with moderate to severe knee osteoarthritis ( oa ) .',\n",
              " 'a total of @ patients with primary knee oa were randomized @:@ ; @ received @ mg/day of prednisolone and @ received placebo for @ weeks .',\n",
              " 'outcome measures included pain reduction and improvement in function scores and systemic inflammation markers .',\n",
              " 'pain was assessed using the visual analog pain scale ( @-@ mm ) .',\n",
              " 'secondary outcome measures included the western ontario and mcmaster universities osteoarthritis index scores , patient global assessment ( pga ) of the severity of knee oa , and @-min walk distance ( @mwd ) .']"
            ]
          },
          "execution_count": 23,
          "metadata": {},
          "output_type": "execute_result"
        }
      ],
      "source": [
        "# View the generated lines of sentences\n",
        "\n",
        "train_sentences[:5]"
      ]
    },
    {
      "cell_type": "markdown",
      "metadata": {
        "id": "qFgvYpp4Q8tS"
      },
      "source": [
        "### Convert the text based labels to numeric ones"
      ]
    },
    {
      "cell_type": "code",
      "execution_count": 24,
      "metadata": {
        "colab": {
          "base_uri": "https://localhost:8080/"
        },
        "id": "3fMiHN-4Q8tT",
        "outputId": "40eed710-cf2b-4387-ae91-81d918c19db0"
      },
      "outputs": [
        {
          "data": {
            "text/plain": [
              "(array([[0., 0., 0., 1., 0.]]),\n",
              " array([[1., 0., 0., 0., 0.]]),\n",
              " array([[1., 0., 0., 0., 0.]]))"
            ]
          },
          "execution_count": 24,
          "metadata": {},
          "output_type": "execute_result"
        }
      ],
      "source": [
        "# One hot encode the labels\n",
        "\n",
        "from sklearn.preprocessing import OneHotEncoder\n",
        "\n",
        "one_hot_encoder = OneHotEncoder(sparse=False)   # to return an array\n",
        "\n",
        "train_labels_one_hot = one_hot_encoder.fit_transform(train_df[\"target\"].to_numpy().reshape(-1,1))   # fit_transform only once, then transform\n",
        "val_labels_one_hot = one_hot_encoder.transform(val_df[\"target\"].to_numpy().reshape(-1,1))\n",
        "test_labels_one_hot = one_hot_encoder.transform(test_df[\"target\"].to_numpy().reshape(-1,1))\n",
        "\n",
        "train_labels_one_hot[:1], val_labels_one_hot[:1], test_labels_one_hot[:1]"
      ]
    },
    {
      "cell_type": "code",
      "execution_count": 25,
      "metadata": {
        "colab": {
          "base_uri": "https://localhost:8080/"
        },
        "id": "B-SKekl0Q8tT",
        "outputId": "5227cadf-4272-49b1-d0c0-8ea33466341c"
      },
      "outputs": [
        {
          "data": {
            "text/plain": [
              "(array([3]), array([0]), array([0]))"
            ]
          },
          "execution_count": 25,
          "metadata": {},
          "output_type": "execute_result"
        }
      ],
      "source": [
        "# Label encode the labels\n",
        "\n",
        "from sklearn.preprocessing import LabelEncoder\n",
        "\n",
        "label_encoder = LabelEncoder()\n",
        "train_labels_encoded = label_encoder.fit_transform(train_df[\"target\"].to_numpy())\n",
        "val_labels_encoded = label_encoder.transform(val_df[\"target\"].to_numpy())\n",
        "test_labels_encoded = label_encoder.transform(test_df[\"target\"].to_numpy())\n",
        "\n",
        "train_labels_encoded[:1], val_labels_encoded[:1], test_labels_encoded[:1]"
      ]
    },
    {
      "cell_type": "code",
      "execution_count": 26,
      "metadata": {
        "colab": {
          "base_uri": "https://localhost:8080/"
        },
        "id": "TrvJVzC3Q8tU",
        "outputId": "450f4fda-d610-441d-e348-d695756896d7"
      },
      "outputs": [
        {
          "data": {
            "text/plain": [
              "(5, array(['BACKGROUND', 'CONCLUSIONS', 'METHODS', 'OBJECTIVE', 'RESULTS'],\n",
              "       dtype=object))"
            ]
          },
          "execution_count": 26,
          "metadata": {},
          "output_type": "execute_result"
        }
      ],
      "source": [
        "# Get the class names from the label encoder\n",
        "\n",
        "num_classes = len(label_encoder.classes_)\n",
        "class_names = label_encoder.classes_\n",
        "\n",
        "num_classes, class_names"
      ]
    },
    {
      "cell_type": "markdown",
      "metadata": {
        "id": "ToITCXqjQ8tV"
      },
      "source": [
        "## Start a series of Modelling Experiments"
      ]
    },
    {
      "cell_type": "markdown",
      "metadata": {
        "id": "cxf0oCViQ8tV"
      },
      "source": [
        "### Model 0: Create a baseline model"
      ]
    },
    {
      "cell_type": "code",
      "execution_count": 27,
      "metadata": {
        "colab": {
          "base_uri": "https://localhost:8080/"
        },
        "id": "nCpN34LzQ8tW",
        "outputId": "a34cba48-a584-4e67-88bd-fa205cf5858c"
      },
      "outputs": [
        {
          "data": {
            "text/plain": [
              "Pipeline(steps=[('tf-idf', TfidfVectorizer()), ('clf', MultinomialNB())])"
            ]
          },
          "execution_count": 27,
          "metadata": {},
          "output_type": "execute_result"
        }
      ],
      "source": [
        "from sklearn.feature_extraction.text import TfidfVectorizer\n",
        "from sklearn.naive_bayes import MultinomialNB\n",
        "from sklearn.pipeline import Pipeline\n",
        "\n",
        "# Create a pipeline\n",
        "model_0 = Pipeline([\n",
        "    (\"tf-idf\", TfidfVectorizer()),\n",
        "    (\"clf\", MultinomialNB())\n",
        "])\n",
        "\n",
        "# Fit the pipeline to the training data\n",
        "\n",
        "model_0.fit(\n",
        "    X = train_sentences,\n",
        "    y = train_labels_encoded    # use label encoded and not one hot encoded, because it is not supported\n",
        ")"
      ]
    },
    {
      "cell_type": "code",
      "execution_count": 28,
      "metadata": {
        "colab": {
          "base_uri": "https://localhost:8080/"
        },
        "id": "VtP0ktZgQ8tX",
        "outputId": "099c2799-dd97-45ee-b7fa-93d8c8ee3dc7"
      },
      "outputs": [
        {
          "data": {
            "text/plain": [
              "0.7218323844829869"
            ]
          },
          "execution_count": 28,
          "metadata": {},
          "output_type": "execute_result"
        }
      ],
      "source": [
        "# Evaluate the baseline odel on validation data\n",
        "\n",
        "model_0.score(\n",
        "    X= val_sentences,\n",
        "    y=val_labels_encoded\n",
        ")"
      ]
    },
    {
      "cell_type": "code",
      "execution_count": 29,
      "metadata": {
        "colab": {
          "base_uri": "https://localhost:8080/"
        },
        "id": "YhMBWnSjQ8tY",
        "outputId": "818c276b-9fef-4321-c796-89f8bed82bcf"
      },
      "outputs": [
        {
          "data": {
            "text/plain": [
              "array([4, 1, 3, ..., 4, 4, 1])"
            ]
          },
          "execution_count": 29,
          "metadata": {},
          "output_type": "execute_result"
        }
      ],
      "source": [
        "# Make predictions using our baseline model\n",
        "\n",
        "baseline_preds = model_0.predict(val_sentences)\n",
        "baseline_preds\n"
      ]
    },
    {
      "cell_type": "markdown",
      "metadata": {
        "id": "B6GtoOpxQ8tY"
      },
      "source": [
        "Calculate baseline results from the calculate_results function in our helper script"
      ]
    },
    {
      "cell_type": "code",
      "execution_count": 31,
      "metadata": {
        "colab": {
          "base_uri": "https://localhost:8080/"
        },
        "id": "hOcsPrErQ8tZ",
        "outputId": "4e69c66e-7741-49f6-93bd-a5353305f747"
      },
      "outputs": [
        {
          "data": {
            "text/plain": [
              "{'accuracy': 72.1832384482987,\n",
              " 'f1': 0.6989250353450294,\n",
              " 'precision': 0.7186466952323352,\n",
              " 'recall': 0.7218323844829869}"
            ]
          },
          "execution_count": 31,
          "metadata": {},
          "output_type": "execute_result"
        }
      ],
      "source": [
        "from helper_functions import calculate_results\n",
        "\n",
        "baseline_result = calculate_results(y_true=val_labels_encoded, y_pred= baseline_preds)\n",
        "\n",
        "baseline_result"
      ]
    },
    {
      "cell_type": "markdown",
      "metadata": {
        "id": "Sc6W2n-jQ8ta"
      },
      "source": [
        "### Prepare the text for deep sequence models by creating vectorization and embedding layers"
      ]
    },
    {
      "cell_type": "code",
      "execution_count": 32,
      "metadata": {
        "id": "mVk4EzK5Q8ta"
      },
      "outputs": [],
      "source": [
        "import numpy as np\n",
        "import tensorflow as tf\n",
        "from tensorflow.keras import layers"
      ]
    },
    {
      "cell_type": "code",
      "execution_count": 33,
      "metadata": {
        "colab": {
          "base_uri": "https://localhost:8080/"
        },
        "id": "mMkRSkC9Q8tc",
        "outputId": "37df7134-13bb-407f-b78f-bb86c24de4d5"
      },
      "outputs": [
        {
          "data": {
            "text/plain": [
              "26.338269273494777"
            ]
          },
          "execution_count": 33,
          "metadata": {},
          "output_type": "execute_result"
        }
      ],
      "source": [
        "# How long is each sentence on average?\n",
        "\n",
        "sent_lens = [len(sentence.split()) for sentence in train_sentences]\n",
        "avg_sent_len = np.mean(sent_lens)\n",
        "avg_sent_len"
      ]
    },
    {
      "cell_type": "code",
      "execution_count": 34,
      "metadata": {
        "colab": {
          "base_uri": "https://localhost:8080/",
          "height": 54
        },
        "id": "q8zpcs7AQ8td",
        "outputId": "9d94c545-3c61-4027-daf1-8c0cc6cc7491"
      },
      "outputs": [
        {
          "data": {
            "image/png": "[encoded data removed]",
            "text/plain": [
              "<Figure size 432x288 with 1 Axes>"
            ]
          },
          "metadata": {
            "needs_background": "light"
          },
          "output_type": "display_data"
        }
      ],
      "source": [
        "# What is the distribution of the text?\n",
        "\n",
        "import matplotlib.pyplot as plt\n",
        "\n",
        "plt.hist(sent_lens, bins=20);"
      ]
    },
    {
      "cell_type": "code",
      "execution_count": 35,
      "metadata": {
        "colab": {
          "base_uri": "https://localhost:8080/"
        },
        "id": "eWJxCw-6Q8td",
        "outputId": "42ae7dbb-b3ca-41d5-ac8c-e78a4206720a"
      },
      "outputs": [
        {
          "data": {
            "text/plain": [
              "55"
            ]
          },
          "execution_count": 35,
          "metadata": {},
          "output_type": "execute_result"
        }
      ],
      "source": [
        "# How long of a sentence length covers 95% of examples\n",
        "\n",
        "output_seq_len = int(np.percentile(sent_lens, 95))\n",
        "output_seq_len"
      ]
    },
    {
      "cell_type": "markdown",
      "metadata": {
        "id": "OSjjJCTLQ8te"
      },
      "source": [
        "This means that sentences which are under 55 words shape 95% of the data"
      ]
    },
    {
      "cell_type": "code",
      "execution_count": 36,
      "metadata": {
        "colab": {
          "base_uri": "https://localhost:8080/"
        },
        "id": "M1QOSxf5Q8te",
        "outputId": "b2ff6c22-c654-408c-b5f3-f4fc2929f83b"
      },
      "outputs": [
        {
          "data": {
            "text/plain": [
              "296"
            ]
          },
          "execution_count": 36,
          "metadata": {},
          "output_type": "execute_result"
        }
      ],
      "source": [
        "# What is the maximum sequence length in the training set?\n",
        "max(sent_lens)"
      ]
    },
    {
      "cell_type": "code",
      "execution_count": 37,
      "metadata": {
        "id": "iZ-qKzjdQ8tf"
      },
      "outputs": [],
      "source": [
        "# Create a text vectorization layer\n",
        "\n",
        "from tensorflow.keras.layers.experimental.preprocessing import TextVectorization\n",
        "\n",
        "# How many words are in the vocab of the data?\n",
        "max_tokens = 68000   # based on the paper im implementing\n",
        "\n",
        "# Create the text vectorizer\n",
        "text_vectorizer = TextVectorization(\n",
        "    max_tokens= max_tokens,                     # number of words in the vocab\n",
        "    output_sequence_length= output_seq_len      # desired output length of the sentences\n",
        ")"
      ]
    },
    {
      "cell_type": "code",
      "execution_count": 38,
      "metadata": {
        "id": "oDNAUsz7Q8tf"
      },
      "outputs": [],
      "source": [
        "# Adapt the text vectorizer to the training data\n",
        "text_vectorizer.adapt(train_sentences)"
      ]
    },
    {
      "cell_type": "code",
      "execution_count": 39,
      "metadata": {
        "colab": {
          "base_uri": "https://localhost:8080/"
        },
        "id": "w2ctb3feQ8tg",
        "outputId": "5c62df0d-418e-4da2-d3af-6a80c4db8ec7"
      },
      "outputs": [
        {
          "name": "stdout",
          "output_type": "stream",
          "text": [
            "Text:\n",
            "statistically significant differences were found in contrast sensitivity between the two types of correction for distance ( under mesopic conditions ) and for near vision , with the cbmclc exhibiting better results in both cases ( p < @ ) .\n",
            "\n",
            "Length of text: 240\n",
            "\n",
            "Vectorized text: [[  232    37   102     9   208     5   780   509    30     2    51  1086\n",
            "      4  2055    11  1167   353 15768   458     3    11  2877  1922     7\n",
            "      2 21016  9991   252   117     5    54   263    14     0     0     0\n",
            "      0     0     0     0     0     0     0     0     0     0     0     0\n",
            "      0     0     0     0     0     0     0]]\n"
          ]
        }
      ],
      "source": [
        "# Test out the text vectorizer on random sentences\n",
        "import random\n",
        "\n",
        "target_sentence = random.choice(train_sentences)\n",
        "\n",
        "# Output the result\n",
        "print(f\"Text:\\n{target_sentence}\")\n",
        "print(f\"\\nLength of text: {len(target_sentence)}\")\n",
        "print(f\"\\nVectorized text: {text_vectorizer([target_sentence])}\")"
      ]
    },
    {
      "cell_type": "code",
      "execution_count": 40,
      "metadata": {
        "colab": {
          "base_uri": "https://localhost:8080/"
        },
        "id": "kMEsMObiQ8tg",
        "outputId": "813c89e8-ce07-483d-87f7-e538ffb24ee9"
      },
      "outputs": [
        {
          "name": "stdout",
          "output_type": "stream",
          "text": [
            "Number of words in vocab: 64841\n",
            "Most common words in the vocab: ['', '[UNK]', 'the', 'and', 'of']\n",
            "Least common words in the vocab: ['aainduced', 'aaigroup', 'aachener', 'aachen', 'aaacp']\n"
          ]
        }
      ],
      "source": [
        "# How many words in our training vocab\n",
        "\n",
        "text_vocab = text_vectorizer.get_vocabulary()\n",
        "\n",
        "# Output the result\n",
        "print(f\"Number of words in vocab: {len(text_vocab)}\")\n",
        "print(f\"Most common words in the vocab: {text_vocab[:5]}\")\n",
        "print(f\"Least common words in the vocab: {text_vocab[-5:]}\")"
      ]
    },
    {
      "cell_type": "code",
      "execution_count": 41,
      "metadata": {
        "id": "s95DGkqLQ8th"
      },
      "outputs": [],
      "source": [
        "# Create the embedding layer\n",
        "\n",
        "from tensorflow.keras.layers import Embedding\n",
        "\n",
        "token_embed = Embedding(input_dim= len(text_vocab),\n",
        "                        output_dim=128,\n",
        "                        mask_zero=True,  # to handle variable sequence length (saves space)\n",
        "                        name=\"tokeb_embedding\"\n",
        "                        )\n"
      ]
    },
    {
      "cell_type": "code",
      "execution_count": 42,
      "metadata": {
        "colab": {
          "base_uri": "https://localhost:8080/"
        },
        "id": "LHUHEnh8Q8ti",
        "outputId": "dee2c687-34c2-4605-dc9e-7aee912ed202"
      },
      "outputs": [
        {
          "name": "stdout",
          "output_type": "stream",
          "text": [
            "Sentence before vectorization: \n",
            " statistically significant differences were found in contrast sensitivity between the two types of correction for distance ( under mesopic conditions ) and for near vision , with the cbmclc exhibiting better results in both cases ( p < @ ) .\n",
            "\n",
            "Sentence after vectorization (before embedding):\n",
            " [[  232    37   102     9   208     5   780   509    30     2    51  1086\n",
            "      4  2055    11  1167   353 15768   458     3    11  2877  1922     7\n",
            "      2 21016  9991   252   117     5    54   263    14     0     0     0\n",
            "      0     0     0     0     0     0     0     0     0     0     0     0\n",
            "      0     0     0     0     0     0     0]]\n",
            "\n",
            "Sentence after embedding: \n",
            " [<tf.Tensor: shape=(1, 55, 128), dtype=float32, numpy=\n",
            "array([[[-0.00643519,  0.00997281, -0.00242788, ..., -0.0406569 ,\n",
            "         -0.00227179, -0.0260299 ],\n",
            "        [-0.03015896, -0.04748043, -0.01086649, ..., -0.04361049,\n",
            "          0.03450701,  0.03181089],\n",
            "        [-0.04514898,  0.03290497, -0.01576427, ...,  0.03029679,\n",
            "          0.03463906,  0.04843912],\n",
            "        ...,\n",
            "        [ 0.00305786,  0.00643025, -0.047662  , ..., -0.01014491,\n",
            "          0.01959307, -0.02472934],\n",
            "        [ 0.00305786,  0.00643025, -0.047662  , ..., -0.01014491,\n",
            "          0.01959307, -0.02472934],\n",
            "        [ 0.00305786,  0.00643025, -0.047662  , ..., -0.01014491,\n",
            "          0.01959307, -0.02472934]]], dtype=float32)>]\n",
            "Embedded sentence shape: (1, 55, 128)\n"
          ]
        }
      ],
      "source": [
        "# An example of embedding\n",
        "\n",
        "print(f\"Sentence before vectorization: \\n {target_sentence}\\n\")\n",
        "vectorized_sentence = text_vectorizer([target_sentence])\n",
        "print(f\"Sentence after vectorization (before embedding):\\n {vectorized_sentence}\\n\")\n",
        "embedded_sentence = token_embed(vectorized_sentence)\n",
        "print(f\"Sentence after embedding: \\n {[embedded_sentence]}\")\n",
        "print(f\"Embedded sentence shape: {embedded_sentence.shape}\")"
      ]
    },
    {
      "cell_type": "markdown",
      "metadata": {
        "id": "AAoIvryXQ8ti"
      },
      "source": [
        "### Creating datasets (making sure the data loads faster)"
      ]
    },
    {
      "cell_type": "code",
      "execution_count": 43,
      "metadata": {
        "colab": {
          "base_uri": "https://localhost:8080/"
        },
        "id": "SnWRmo5CQ8tj",
        "outputId": "73059f72-6f5d-4dc6-b66c-3ee0ea57bf11"
      },
      "outputs": [
        {
          "data": {
            "text/plain": [
              "(<TensorSliceDataset element_spec=(TensorSpec(shape=(), dtype=tf.string, name=None), TensorSpec(shape=(5,), dtype=tf.float64, name=None))>,\n",
              " <TensorSliceDataset element_spec=(TensorSpec(shape=(), dtype=tf.string, name=None), TensorSpec(shape=(5,), dtype=tf.float64, name=None))>,\n",
              " <TensorSliceDataset element_spec=(TensorSpec(shape=(), dtype=tf.string, name=None), TensorSpec(shape=(5,), dtype=tf.float64, name=None))>)"
            ]
          },
          "execution_count": 43,
          "metadata": {},
          "output_type": "execute_result"
        }
      ],
      "source": [
        "# Turn the data into TensorFlow datasets\n",
        "\n",
        "train_dataset = tf.data.Dataset.from_tensor_slices((train_sentences, train_labels_one_hot))\n",
        "val_dataset = tf.data.Dataset.from_tensor_slices((val_sentences, val_labels_one_hot))\n",
        "test_dataset = tf.data.Dataset.from_tensor_slices((test_sentences, test_labels_one_hot))\n",
        "\n",
        "train_dataset, val_dataset, test_dataset"
      ]
    },
    {
      "cell_type": "code",
      "execution_count": 44,
      "metadata": {
        "colab": {
          "base_uri": "https://localhost:8080/"
        },
        "id": "RP21VQkbQ8tj",
        "outputId": "f18c7f1c-755f-4180-f900-357afc0467be"
      },
      "outputs": [
        {
          "data": {
            "text/plain": [
              "(<PrefetchDataset element_spec=(TensorSpec(shape=(None,), dtype=tf.string, name=None), TensorSpec(shape=(None, 5), dtype=tf.float64, name=None))>,\n",
              " <PrefetchDataset element_spec=(TensorSpec(shape=(None,), dtype=tf.string, name=None), TensorSpec(shape=(None, 5), dtype=tf.float64, name=None))>,\n",
              " <PrefetchDataset element_spec=(TensorSpec(shape=(None,), dtype=tf.string, name=None), TensorSpec(shape=(None, 5), dtype=tf.float64, name=None))>)"
            ]
          },
          "execution_count": 44,
          "metadata": {},
          "output_type": "execute_result"
        }
      ],
      "source": [
        "# Turn these datasets into prefetch datasets\n",
        "\n",
        "train_dataset = train_dataset.batch(32).prefetch(tf.data.AUTOTUNE)  # not shuffling now, since order is important\n",
        "val_dataset = val_dataset.batch(32).prefetch(tf.data.AUTOTUNE)\n",
        "test_dataset = test_dataset.batch(32).prefetch(tf.data.AUTOTUNE)\n",
        "\n",
        "train_dataset, val_dataset, test_dataset"
      ]
    },
    {
      "cell_type": "markdown",
      "metadata": {
        "id": "v7dAITSLQ8tk"
      },
      "source": [
        "### Model 1: Conv1D with token embedding"
      ]
    },
    {
      "cell_type": "code",
      "execution_count": 45,
      "metadata": {
        "id": "zqpLpkopQ8tk"
      },
      "outputs": [],
      "source": [
        "# Create the model\n",
        "\n",
        "inputs = layers.Input(shape=(1,), dtype=tf.string)\n",
        "text_vectors = text_vectorizer(inputs)\n",
        "token_embeddings = token_embed(text_vectors)\n",
        "x = layers.Conv1D(64, kernel_size=5, padding=\"same\", activation=\"relu\")(token_embeddings)\n",
        "x = layers.GlobalAveragePooling1D()(x)\n",
        "outputs = layers.Dense(num_classes, activation=\"softmax\")(x)\n",
        "\n",
        "model_1 = tf.keras.Model(inputs, outputs)\n",
        "\n",
        "# compile the model\n",
        "\n",
        "model_1.compile(\n",
        "    loss= \"categorical_crossentropy\",\n",
        "    optimizer= tf.keras.optimizers.Adam(),\n",
        "    metrics= [\"accuracy\"]\n",
        ")"
      ]
    },
    {
      "cell_type": "code",
      "execution_count": 46,
      "metadata": {
        "colab": {
          "base_uri": "https://localhost:8080/"
        },
        "id": "3094tUZ_Q8tl",
        "outputId": "e65a57fa-dd86-4e6a-a5d0-54461c85f5ca"
      },
      "outputs": [
        {
          "name": "stdout",
          "output_type": "stream",
          "text": [
            "Model: \"model\"\n",
            "_________________________________________________________________\n",
            " Layer (type)                Output Shape              Param #   \n",
            "=================================================================\n",
            " input_1 (InputLayer)        [(None, 1)]               0         \n",
            "                                                                 \n",
            " text_vectorization (TextVec  (None, 55)               0         \n",
            " torization)                                                     \n",
            "                                                                 \n",
            " tokeb_embedding (Embedding)  (None, 55, 128)          8299648   \n",
            "                                                                 \n",
            " conv1d (Conv1D)             (None, 55, 64)            41024     \n",
            "                                                                 \n",
            " global_average_pooling1d (G  (None, 64)               0         \n",
            " lobalAveragePooling1D)                                          \n",
            "                                                                 \n",
            " dense (Dense)               (None, 5)                 325       \n",
            "                                                                 \n",
            "=================================================================\n",
            "Total params: 8,340,997\n",
            "Trainable params: 8,340,997\n",
            "Non-trainable params: 0\n",
            "_________________________________________________________________\n"
          ]
        }
      ],
      "source": [
        "# Get an overview of the model\n",
        "\n",
        "model_1.summary()"
      ]
    },
    {
      "cell_type": "code",
      "execution_count": 47,
      "metadata": {
        "colab": {
          "base_uri": "https://localhost:8080/"
        },
        "id": "Kzvr-RzAQ8tl",
        "outputId": "b9dfd091-f55d-4d5e-9796-5ac350d5d9f4"
      },
      "outputs": [
        {
          "name": "stdout",
          "output_type": "stream",
          "text": [
            "Epoch 1/3\n",
            "562/562 [==============================] - 17s 9ms/step - loss: 0.9196 - accuracy: 0.6330 - val_loss: 0.6849 - val_accuracy: 0.7404\n",
            "Epoch 2/3\n",
            "562/562 [==============================] - 5s 9ms/step - loss: 0.6570 - accuracy: 0.7557 - val_loss: 0.6326 - val_accuracy: 0.7636\n",
            "Epoch 3/3\n",
            "562/562 [==============================] - 5s 9ms/step - loss: 0.6189 - accuracy: 0.7750 - val_loss: 0.5970 - val_accuracy: 0.7846\n"
          ]
        }
      ],
      "source": [
        "# Fit the model\n",
        "\n",
        "history_model_1 = model_1.fit(\n",
        "    train_dataset,\n",
        "    steps_per_epoch= (0.1 * len(train_dataset)),    # to speed up fitting\n",
        "    epochs=3,\n",
        "    validation_data = val_dataset,\n",
        "    validation_steps= int(0.1 * len(val_dataset))   # to speed up fitting\n",
        ")"
      ]
    },
    {
      "cell_type": "code",
      "execution_count": 48,
      "metadata": {
        "colab": {
          "base_uri": "https://localhost:8080/"
        },
        "id": "Z5LHu4S1Q8tm",
        "outputId": "8ecb3dfb-a14d-4bde-84c5-7ebce3f9186c"
      },
      "outputs": [
        {
          "name": "stdout",
          "output_type": "stream",
          "text": [
            "945/945 [==============================] - 3s 3ms/step - loss: 0.5986 - accuracy: 0.7854\n"
          ]
        },
        {
          "data": {
            "text/plain": [
              "[0.5985676646232605, 0.7854163646697998]"
            ]
          },
          "execution_count": 48,
          "metadata": {},
          "output_type": "execute_result"
        }
      ],
      "source": [
        "# Evaluate on the validation dataset\n",
        "\n",
        "model_1.evaluate(val_dataset)\n"
      ]
    },
    {
      "cell_type": "code",
      "execution_count": 49,
      "metadata": {
        "colab": {
          "base_uri": "https://localhost:8080/"
        },
        "id": "zNcGlNm_Q8tn",
        "outputId": "edca3b7f-86cc-462d-c40e-fed8cdd89c7a"
      },
      "outputs": [
        {
          "data": {
            "text/plain": [
              "(array([[3.9981389e-01, 1.8055466e-01, 7.8057341e-02, 3.2294729e-01,\n",
              "         1.8626807e-02],\n",
              "        [4.7601020e-01, 2.2767726e-01, 1.0050247e-02, 2.7932128e-01,\n",
              "         6.9410298e-03],\n",
              "        [1.2561217e-01, 6.1924439e-03, 8.1305351e-04, 8.6734807e-01,\n",
              "         3.4343735e-05],\n",
              "        ...,\n",
              "        [2.3822950e-06, 1.0287722e-03, 8.2051387e-04, 3.8146409e-06,\n",
              "         9.9814451e-01],\n",
              "        [5.5536307e-02, 4.3795443e-01, 1.1020163e-01, 7.9818793e-02,\n",
              "         3.1648880e-01],\n",
              "        [2.3285319e-01, 6.2602317e-01, 5.6389093e-02, 3.4729347e-02,\n",
              "         5.0005253e-02]], dtype=float32), (30212, 5))"
            ]
          },
          "execution_count": 49,
          "metadata": {},
          "output_type": "execute_result"
        }
      ],
      "source": [
        "# Make prediction\n",
        "model_1_pred_probs = model_1.predict(val_dataset)\n",
        "model_1_pred_probs, model_1_pred_probs.shape"
      ]
    },
    {
      "cell_type": "code",
      "execution_count": 50,
      "metadata": {
        "colab": {
          "base_uri": "https://localhost:8080/"
        },
        "id": "vxD9d5H_Q8to",
        "outputId": "021a1d5a-f4ef-4d41-ed61-ff1cfbbd314a"
      },
      "outputs": [
        {
          "data": {
            "text/plain": [
              "<tf.Tensor: shape=(30212,), dtype=int64, numpy=array([0, 0, 3, ..., 4, 1, 1])>"
            ]
          },
          "execution_count": 50,
          "metadata": {},
          "output_type": "execute_result"
        }
      ],
      "source": [
        "# Convert pred probs to classes\n",
        "model_1_preds = tf.argmax(model_1_pred_probs, axis=1)\n",
        "model_1_preds"
      ]
    },
    {
      "cell_type": "code",
      "execution_count": 51,
      "metadata": {
        "colab": {
          "base_uri": "https://localhost:8080/"
        },
        "id": "_MsHIf7ZQ8tp",
        "outputId": "bac1ea45-9398-4e66-937e-901cf5b410c2"
      },
      "outputs": [
        {
          "data": {
            "text/plain": [
              "{'accuracy': 78.54163908380775,\n",
              " 'f1': 0.7830387757770575,\n",
              " 'precision': 0.7821026805026697,\n",
              " 'recall': 0.7854163908380776}"
            ]
          },
          "execution_count": 51,
          "metadata": {},
          "output_type": "execute_result"
        }
      ],
      "source": [
        "# Calculate results of model_1\n",
        "model_1_result = calculate_results(\n",
        "    y_true= val_labels_encoded,\n",
        "    y_pred= model_1_preds\n",
        ")\n",
        "\n",
        "model_1_result"
      ]
    },
    {
      "cell_type": "code",
      "execution_count": 52,
      "metadata": {
        "colab": {
          "base_uri": "https://localhost:8080/"
        },
        "id": "9W9kHQ7_Q8tq",
        "outputId": "3d6b1d47-994e-4d8e-f808-4feec542d529"
      },
      "outputs": [
        {
          "data": {
            "text/plain": [
              "{'accuracy': 72.1832384482987,\n",
              " 'f1': 0.6989250353450294,\n",
              " 'precision': 0.7186466952323352,\n",
              " 'recall': 0.7218323844829869}"
            ]
          },
          "execution_count": 52,
          "metadata": {},
          "output_type": "execute_result"
        }
      ],
      "source": [
        "# Compare it with the baseline model\n",
        "\n",
        "baseline_result"
      ]
    },
    {
      "cell_type": "markdown",
      "metadata": {
        "id": "bxhRz8ldQ8tr"
      },
      "source": [
        "We can see that our first model is doing way better than the baseline. This is good news!! Lets try transfer learning and see if it beats our model_1"
      ]
    },
    {
      "cell_type": "markdown",
      "metadata": {
        "id": "XWBtk5lnQ8tr"
      },
      "source": [
        "### Model 2: Feature Extraction with pretrained token embeddings"
      ]
    },
    {
      "cell_type": "markdown",
      "metadata": {
        "id": "QvwZNDcoQ8tr"
      },
      "source": [
        "Now we get the pretrained token embeddings from tensorflow hub"
      ]
    },
    {
      "cell_type": "code",
      "execution_count": 53,
      "metadata": {
        "id": "WlEia2m9Q8ts"
      },
      "outputs": [],
      "source": [
        "# Although the paper used GloVe embeddings, I will implement it using the USE encoder.\n",
        "\n",
        "import tensorflow_hub as hub\n",
        "\n",
        "tf_hub_embedding_layer = hub.KerasLayer(\"https://tfhub.dev/google/universal-sentence-encoder/4\",\n",
        "                                        trainable=False,\n",
        "                                        name=\"USE_encoder\")"
      ]
    },
    {
      "cell_type": "code",
      "execution_count": 54,
      "metadata": {
        "colab": {
          "base_uri": "https://localhost:8080/"
        },
        "id": "yMJooeKdQ8tt",
        "outputId": "dc1d0599-fe50-45a0-fffb-8527396931df"
      },
      "outputs": [
        {
          "name": "stdout",
          "output_type": "stream",
          "text": [
            "Random sentences:\n",
            " the edinburgh postnatal depression scale ( epds ) and pittsburgh sleep quality index ( psqi ) were employed to evaluate depression and sleep quality , respectively .\n",
            "Sentence after embedding:\n",
            "[ 0.02037832 -0.0686217   0.02761592 -0.03782979 -0.0106076   0.06082975\n",
            " -0.06342603  0.02166366  0.01938502  0.02776537  0.05998522  0.07035717\n",
            " -0.01289119  0.04034748  0.07262176 -0.04788763 -0.07255524 -0.01312608\n",
            " -0.02451731  0.02565354  0.0635021   0.04994633  0.04606268  0.06519826\n",
            "  0.00538946 -0.00658307  0.01283964  0.05459264  0.0682063   0.0248063 ]\n",
            "\n",
            "Length of sentence embedding: 512\n"
          ]
        }
      ],
      "source": [
        "# Test the pretrained embedding on a random sentence\n",
        "\n",
        "random_train_sentence = random.choice(train_sentences)\n",
        "\n",
        "# Output the results\n",
        "\n",
        "print(f\"Random sentences:\\n {random_train_sentence}\")\n",
        "use_embedding_sentence = tf_hub_embedding_layer([random_train_sentence])\n",
        "print(f\"Sentence after embedding:\\n{use_embedding_sentence[0][:30]}\\n\")\n",
        "print(f\"Length of sentence embedding: {len(use_embedding_sentence[0])}\")"
      ]
    },
    {
      "cell_type": "code",
      "execution_count": 55,
      "metadata": {
        "id": "GAR_YaNKQ8tu"
      },
      "outputs": [],
      "source": [
        "# Create the model\n",
        "\n",
        "inputs = layers.Input(shape=([]), dtype=tf.string)\n",
        "pretrained_embedding = tf_hub_embedding_layer(inputs)\n",
        "x = layers.Dense(128, activation=\"relu\")(pretrained_embedding)\n",
        "outputs = layers.Dense(num_classes, activation=\"softmax\")(x)\n",
        "\n",
        "model_2 = tf.keras.Model(inputs=inputs,\n",
        "                        outputs=outputs,\n",
        "                        name=\"model_2_USE_encoder\")\n",
        "\n",
        "# compile the model\n",
        "\n",
        "model_2.compile(\n",
        "    loss= \"categorical_crossentropy\",\n",
        "    optimizer= tf.keras.optimizers.Adam(),\n",
        "    metrics= [\"accuracy\"]\n",
        ")"
      ]
    },
    {
      "cell_type": "code",
      "execution_count": 56,
      "metadata": {
        "colab": {
          "base_uri": "https://localhost:8080/"
        },
        "id": "SZPk6tkXQ8tv",
        "outputId": "f15ee677-ad38-40a4-fe92-ebfc2d950570"
      },
      "outputs": [
        {
          "name": "stdout",
          "output_type": "stream",
          "text": [
            "Model: \"model_2_USE_encoder\"\n",
            "_________________________________________________________________\n",
            " Layer (type)                Output Shape              Param #   \n",
            "=================================================================\n",
            " input_2 (InputLayer)        [(None,)]                 0         \n",
            "                                                                 \n",
            " USE_encoder (KerasLayer)    (None, 512)               256797824 \n",
            "                                                                 \n",
            " dense_1 (Dense)             (None, 128)               65664     \n",
            "                                                                 \n",
            " dense_2 (Dense)             (None, 5)                 645       \n",
            "                                                                 \n",
            "=================================================================\n",
            "Total params: 256,864,133\n",
            "Trainable params: 66,309\n",
            "Non-trainable params: 256,797,824\n",
            "_________________________________________________________________\n"
          ]
        }
      ],
      "source": [
        "# Get the summary\n",
        "model_2.summary()"
      ]
    },
    {
      "cell_type": "code",
      "execution_count": 57,
      "metadata": {
        "colab": {
          "base_uri": "https://localhost:8080/"
        },
        "id": "hZwwEkaQQ8tv",
        "outputId": "40857dfe-0bc9-4289-fc45-57b9a37ed49a"
      },
      "outputs": [
        {
          "name": "stdout",
          "output_type": "stream",
          "text": [
            "Epoch 1/3\n",
            "562/562 [==============================] - 10s 14ms/step - loss: 0.9193 - accuracy: 0.6489 - val_loss: 0.7983 - val_accuracy: 0.6888\n",
            "Epoch 2/3\n",
            "562/562 [==============================] - 8s 14ms/step - loss: 0.7670 - accuracy: 0.7035 - val_loss: 0.7504 - val_accuracy: 0.7088\n",
            "Epoch 3/3\n",
            "562/562 [==============================] - 8s 14ms/step - loss: 0.7463 - accuracy: 0.7148 - val_loss: 0.7318 - val_accuracy: 0.7118\n"
          ]
        }
      ],
      "source": [
        "# Fit the model\n",
        "\n",
        "history_model_2 = model_2.fit(\n",
        "    train_dataset,\n",
        "    epochs=3,\n",
        "    steps_per_epoch= (0.1 * len(train_dataset)),\n",
        "    validation_data= val_dataset,\n",
        "    validation_steps= int(0.1 * len(val_dataset))\n",
        ")"
      ]
    },
    {
      "cell_type": "code",
      "execution_count": 58,
      "metadata": {
        "colab": {
          "base_uri": "https://localhost:8080/"
        },
        "id": "9OB1wOksQ8tw",
        "outputId": "bb1a7edf-60ae-4954-cb86-9dbdaf29cedc"
      },
      "outputs": [
        {
          "name": "stdout",
          "output_type": "stream",
          "text": [
            "945/945 [==============================] - 12s 13ms/step - loss: 0.7352 - accuracy: 0.7173\n"
          ]
        },
        {
          "data": {
            "text/plain": [
              "[0.7352218627929688, 0.7172977328300476]"
            ]
          },
          "execution_count": 58,
          "metadata": {},
          "output_type": "execute_result"
        }
      ],
      "source": [
        "# Evaluate on the validation set\n",
        "\n",
        "model_2.evaluate(val_dataset)"
      ]
    },
    {
      "cell_type": "code",
      "execution_count": 59,
      "metadata": {
        "colab": {
          "base_uri": "https://localhost:8080/"
        },
        "id": "fRc_2Xf0Q8tw",
        "outputId": "6c615a38-72d2-4154-e62e-719fd53c31b2"
      },
      "outputs": [
        {
          "data": {
            "text/plain": [
              "array([[3.9981389e-01, 1.8055466e-01, 7.8057341e-02, 3.2294729e-01,\n",
              "        1.8626807e-02],\n",
              "       [4.7601020e-01, 2.2767726e-01, 1.0050247e-02, 2.7932128e-01,\n",
              "        6.9410298e-03],\n",
              "       [1.2561217e-01, 6.1924439e-03, 8.1305351e-04, 8.6734807e-01,\n",
              "        3.4343735e-05],\n",
              "       ...,\n",
              "       [2.3822950e-06, 1.0287722e-03, 8.2051387e-04, 3.8146409e-06,\n",
              "        9.9814451e-01],\n",
              "       [5.5536307e-02, 4.3795443e-01, 1.1020163e-01, 7.9818793e-02,\n",
              "        3.1648880e-01],\n",
              "       [2.3285319e-01, 6.2602317e-01, 5.6389093e-02, 3.4729347e-02,\n",
              "        5.0005253e-02]], dtype=float32)"
            ]
          },
          "execution_count": 59,
          "metadata": {},
          "output_type": "execute_result"
        }
      ],
      "source": [
        "# Make predictions\n",
        "model_2_pred_probs = model_2.predict(val_dataset)\n",
        "model_1_pred_probs"
      ]
    },
    {
      "cell_type": "code",
      "execution_count": 60,
      "metadata": {
        "colab": {
          "base_uri": "https://localhost:8080/"
        },
        "id": "jTpR2Y6EQ8tx",
        "outputId": "e9285035-6f51-498d-9c0e-7781afb4afde"
      },
      "outputs": [
        {
          "data": {
            "text/plain": [
              "<tf.Tensor: shape=(30212,), dtype=int64, numpy=array([0, 1, 3, ..., 4, 4, 2])>"
            ]
          },
          "execution_count": 60,
          "metadata": {},
          "output_type": "execute_result"
        }
      ],
      "source": [
        "# Convert the prediction probabilities to labels\n",
        "model_2_preds = tf.argmax(model_2_pred_probs, axis=1)\n",
        "model_2_preds"
      ]
    },
    {
      "cell_type": "code",
      "execution_count": 61,
      "metadata": {
        "colab": {
          "base_uri": "https://localhost:8080/"
        },
        "id": "LofUBYsCQ8tx",
        "outputId": "eea88404-f9b0-43d2-fb25-be974c3ec411"
      },
      "outputs": [
        {
          "data": {
            "text/plain": [
              "{'accuracy': 71.72977624784855,\n",
              " 'f1': 0.7145320290178109,\n",
              " 'precision': 0.7178822114983138,\n",
              " 'recall': 0.7172977624784854}"
            ]
          },
          "execution_count": 61,
          "metadata": {},
          "output_type": "execute_result"
        }
      ],
      "source": [
        "# Calculate the results of model2\n",
        "\n",
        "model_2_result = calculate_results(\n",
        "    y_true= val_labels_encoded,\n",
        "    y_pred=model_2_preds\n",
        ")\n",
        "\n",
        "model_2_result"
      ]
    },
    {
      "cell_type": "code",
      "execution_count": 62,
      "metadata": {
        "colab": {
          "base_uri": "https://localhost:8080/"
        },
        "id": "cCP2AkhXQ8ty",
        "outputId": "706809dd-875f-45cc-c78b-75a2d6845a85"
      },
      "outputs": [
        {
          "data": {
            "text/plain": [
              "{'accuracy': 78.54163908380775,\n",
              " 'f1': 0.7830387757770575,\n",
              " 'precision': 0.7821026805026697,\n",
              " 'recall': 0.7854163908380776}"
            ]
          },
          "execution_count": 62,
          "metadata": {},
          "output_type": "execute_result"
        }
      ],
      "source": [
        "# Compare it with our so far best model: model 1\n",
        "\n",
        "model_1_result"
      ]
    },
    {
      "cell_type": "markdown",
      "metadata": {
        "id": "Cve2lxstQ8tz"
      },
      "source": [
        "We see that this mode, model_2, is doing so poorly compared to model 1. Lets try another way"
      ]
    },
    {
      "cell_type": "markdown",
      "metadata": {
        "id": "gmo_wZQIQ8tz"
      },
      "source": [
        "### Model 3: Conv1D with character embeddings"
      ]
    },
    {
      "cell_type": "markdown",
      "metadata": {
        "id": "tOImSh2YQ8tz"
      },
      "source": [
        "Instead of word tokenizer, Ill try character level tokenization"
      ]
    },
    {
      "cell_type": "code",
      "execution_count": 63,
      "metadata": {
        "id": "Q0Ygua3rQ8t0"
      },
      "outputs": [],
      "source": [
        "# Make function to split sentences into characters\n",
        "\n",
        "def split_chars(text):\n",
        "    return \" \".join(list(text))"
      ]
    },
    {
      "cell_type": "code",
      "execution_count": 64,
      "metadata": {
        "colab": {
          "base_uri": "https://localhost:8080/",
          "height": 1000
        },
        "id": "WSMlN4eGQ8t0",
        "outputId": "7bf3a773-15bc-497e-d27a-a180eaf8b98f"
      },
      "outputs": [
        {
          "data": {
            "application/vnd.google.colaboratory.intrinsic+json": {
              "type": "string"
            },
            "text/plain": [
              "'t h e   e d i n b u r g h   p o s t n a t a l   d e p r e s s i o n   s c a l e   (   e p d s   )   a n d   p i t t s b u r g h   s l e e p   q u a l i t y   i n d e x   (   p s q i   )   w e r e   e m p l o y e d   t o   e v a l u a t e   d e p r e s s i o n   a n d   s l e e p   q u a l i t y   ,   r e s p e c t i v e l y   .'"
            ]
          },
          "execution_count": 64,
          "metadata": {},
          "output_type": "execute_result"
        }
      ],
      "source": [
        "split_chars(random_train_sentence)"
      ]
    },
    {
      "cell_type": "code",
      "execution_count": 65,
      "metadata": {
        "colab": {
          "base_uri": "https://localhost:8080/"
        },
        "id": "mu-Kc7C2Q8t1",
        "outputId": "871f79d0-d2fb-46b5-b150-f075545a0e53"
      },
      "outputs": [
        {
          "data": {
            "text/plain": [
              "['t o   i n v e s t i g a t e   t h e   e f f i c a c y   o f   @   w e e k s   o f   d a i l y   l o w - d o s e   o r a l   p r e d n i s o l o n e   i n   i m p r o v i n g   p a i n   ,   m o b i l i t y   ,   a n d   s y s t e m i c   l o w - g r a d e   i n f l a m m a t i o n   i n   t h e   s h o r t   t e r m   a n d   w h e t h e r   t h e   e f f e c t   w o u l d   b e   s u s t a i n e d   a t   @   w e e k s   i n   o l d e r   a d u l t s   w i t h   m o d e r a t e   t o   s e v e r e   k n e e   o s t e o a r t h r i t i s   (   o a   )   .',\n",
              " 'a   t o t a l   o f   @   p a t i e n t s   w i t h   p r i m a r y   k n e e   o a   w e r e   r a n d o m i z e d   @ : @   ;   @   r e c e i v e d   @   m g / d a y   o f   p r e d n i s o l o n e   a n d   @   r e c e i v e d   p l a c e b o   f o r   @   w e e k s   .',\n",
              " 'o u t c o m e   m e a s u r e s   i n c l u d e d   p a i n   r e d u c t i o n   a n d   i m p r o v e m e n t   i n   f u n c t i o n   s c o r e s   a n d   s y s t e m i c   i n f l a m m a t i o n   m a r k e r s   .',\n",
              " 'p a i n   w a s   a s s e s s e d   u s i n g   t h e   v i s u a l   a n a l o g   p a i n   s c a l e   (   @ - @   m m   )   .',\n",
              " 's e c o n d a r y   o u t c o m e   m e a s u r e s   i n c l u d e d   t h e   w e s t e r n   o n t a r i o   a n d   m c m a s t e r   u n i v e r s i t i e s   o s t e o a r t h r i t i s   i n d e x   s c o r e s   ,   p a t i e n t   g l o b a l   a s s e s s m e n t   (   p g a   )   o f   t h e   s e v e r i t y   o f   k n e e   o a   ,   a n d   @ - m i n   w a l k   d i s t a n c e   (   @ m w d   )   .']"
            ]
          },
          "execution_count": 65,
          "metadata": {},
          "output_type": "execute_result"
        }
      ],
      "source": [
        "# Split sequence level data splits into character level data splits\n",
        "\n",
        "train_chars = [split_chars(sentence) for sentence in train_sentences]\n",
        "train_chars[:5]"
      ]
    },
    {
      "cell_type": "code",
      "execution_count": 66,
      "metadata": {
        "id": "b1JVX_kaQ8t3"
      },
      "outputs": [],
      "source": [
        "# Apply it to the other categories\n",
        "\n",
        "val_chars = [split_chars(sentence) for sentence in val_sentences]\n",
        "test_chars = [split_chars(sentence) for sentence in test_sentences]"
      ]
    },
    {
      "cell_type": "code",
      "execution_count": 67,
      "metadata": {
        "colab": {
          "base_uri": "https://localhost:8080/"
        },
        "id": "0Tf6MtnUQ8t4",
        "outputId": "878b539e-aad2-47f8-e2a4-875728d33182"
      },
      "outputs": [
        {
          "data": {
            "text/plain": [
              "149.3662574983337"
            ]
          },
          "execution_count": 67,
          "metadata": {},
          "output_type": "execute_result"
        }
      ],
      "source": [
        "# What is the average char length?\n",
        "\n",
        "char_lens = [len(sentence) for sentence in train_sentences]\n",
        "mean_char_len = np.mean(char_lens)\n",
        "mean_char_len"
      ]
    },
    {
      "cell_type": "code",
      "execution_count": 68,
      "metadata": {
        "colab": {
          "base_uri": "https://localhost:8080/",
          "height": 54
        },
        "id": "KR1LR9YTQ8t4",
        "outputId": "53753d90-b7a4-4ca7-9bb8-b9e1121f44c4"
      },
      "outputs": [
        {
          "data": {
            "image/png": "[encoded data removed]",
            "text/plain": [
              "<Figure size 432x288 with 1 Axes>"
            ]
          },
          "metadata": {
            "needs_background": "light"
          },
          "output_type": "display_data"
        }
      ],
      "source": [
        "# Check the distribution\n",
        "\n",
        "plt.hist(char_lens, bins=7);"
      ]
    },
    {
      "cell_type": "code",
      "execution_count": 69,
      "metadata": {
        "colab": {
          "base_uri": "https://localhost:8080/"
        },
        "id": "C1SpsGr6Q8t8",
        "outputId": "e469f0d1-37a7-4f2f-cb87-2d931303a790"
      },
      "outputs": [
        {
          "data": {
            "text/plain": [
              "290"
            ]
          },
          "execution_count": 69,
          "metadata": {},
          "output_type": "execute_result"
        }
      ],
      "source": [
        "# Find what char length covers 95% of sequences\n",
        "\n",
        "output_seq_char_len = int(np.percentile(char_lens, 95))\n",
        "output_seq_char_len"
      ]
    },
    {
      "cell_type": "code",
      "execution_count": 70,
      "metadata": {
        "colab": {
          "base_uri": "https://localhost:8080/",
          "height": 1000
        },
        "id": "zBLwA99XQ8t9",
        "outputId": "c53c1749-6e02-435b-e13c-09e2030c10d1"
      },
      "outputs": [
        {
          "data": {
            "application/vnd.google.colaboratory.intrinsic+json": {
              "type": "string"
            },
            "text/plain": [
              "'continuation of compressions caused a prolongation in intubation times for both the i-gel ( p < @ ) and the ilma ( p < @ ) .'"
            ]
          },
          "execution_count": 70,
          "metadata": {},
          "output_type": "execute_result"
        }
      ],
      "source": [
        "# Get all keyboard characters\n",
        "\n",
        "random.choice(train_sentences)"
      ]
    },
    {
      "cell_type": "code",
      "execution_count": 71,
      "metadata": {
        "colab": {
          "base_uri": "https://localhost:8080/",
          "height": 1000
        },
        "id": "Gx1DcuXgQ8t-",
        "outputId": "60dda250-765c-4c9a-d84e-09670a29b5eb"
      },
      "outputs": [
        {
          "data": {
            "application/vnd.google.colaboratory.intrinsic+json": {
              "type": "string"
            },
            "text/plain": [
              "'abcdefghijklmnopqrstuvwxyz0123456789!\"#$%&\\'()*+,-./:;<=>?@[\\\\]^_`{|}~'"
            ]
          },
          "execution_count": 71,
          "metadata": {},
          "output_type": "execute_result"
        }
      ],
      "source": [
        "# Get the keyboard chars from the string library\n",
        "import string\n",
        "\n",
        "alphabet = string.ascii_lowercase + string.digits + string.punctuation\n",
        "alphabet"
      ]
    },
    {
      "cell_type": "code",
      "execution_count": 72,
      "metadata": {
        "id": "xAK6JISLQ8t-"
      },
      "outputs": [],
      "source": [
        "# Create char level token vectorizer instance\n",
        "\n",
        "NUM_CHAR_TOKENS = len(alphabet) + 2     # added 2 for space and OOV token\n",
        "char_vectorizer = TextVectorization(max_tokens=NUM_CHAR_TOKENS,\n",
        "                                    output_sequence_length=output_seq_char_len,\n",
        "                                    name=\"char_vectorizer\")"
      ]
    },
    {
      "cell_type": "code",
      "execution_count": 73,
      "metadata": {
        "id": "se9GVg2mQ8t_"
      },
      "outputs": [],
      "source": [
        "# Adapt the char vectorization to training characters\n",
        "char_vectorizer.adapt(train_chars)"
      ]
    },
    {
      "cell_type": "code",
      "execution_count": 74,
      "metadata": {
        "colab": {
          "base_uri": "https://localhost:8080/"
        },
        "id": "1Vd3FdsBQ8t_",
        "outputId": "dfa46f4d-5e12-42a6-fd9d-66b423924c0b"
      },
      "outputs": [
        {
          "name": "stdout",
          "output_type": "stream",
          "text": [
            "Number of different characters in character vocab: 28\n",
            "5 most common chars: ['', '[UNK]', 'e', 't', 'i']\n",
            "5 least common chars: ['k', 'x', 'z', 'q', 'j']\n"
          ]
        }
      ],
      "source": [
        "# Check the char vocab\n",
        "char_vocab = char_vectorizer.get_vocabulary()\n",
        "\n",
        "# Output the results\n",
        "\n",
        "print(f\"Number of different characters in character vocab: {len(char_vocab)}\")\n",
        "print(f\"5 most common chars: {char_vocab[:5]}\")\n",
        "print(f\"5 least common chars: {char_vocab[-5:]}\")"
      ]
    },
    {
      "cell_type": "code",
      "execution_count": 75,
      "metadata": {
        "colab": {
          "base_uri": "https://localhost:8080/"
        },
        "id": "vSJdBSU-Q8uA",
        "outputId": "135006cc-47c7-48d1-ebcf-f4161411c09c"
      },
      "outputs": [
        {
          "name": "stdout",
          "output_type": "stream",
          "text": [
            "Charified text:\n",
            "w e   s t u d i e d   t h e   m e t a b o l i c   r e s p o n s e   t o   a   h i g h e r   o r   l o w e r   p r o t e i n   s u p p l y   i n   i n f a n c y   .\n",
            "\n",
            "Length of chars: 68\n",
            "\n",
            "Vectorized chars:\n",
            "[[20  2  9  3 16 10  4  2 10  3 13  2 15  2  3  5 22  7 12  4 11  8  2  9\n",
            "  14  7  6  9  2  3  7  5 13  4 18 13  2  8  7  8 12  7 20  2  8 14  8  7\n",
            "   3  2  4  6  9 16 14 14 12 19  4  6  4  6 17  5  6 11 19  0  0  0  0  0\n",
            "   0  0  0  0  0  0  0  0  0  0  0  0  0  0  0  0  0  0  0  0  0  0  0  0\n",
            "   0  0  0  0  0  0  0  0  0  0  0  0  0  0  0  0  0  0  0  0  0  0  0  0\n",
            "   0  0  0  0  0  0  0  0  0  0  0  0  0  0  0  0  0  0  0  0  0  0  0  0\n",
            "   0  0  0  0  0  0  0  0  0  0  0  0  0  0  0  0  0  0  0  0  0  0  0  0\n",
            "   0  0  0  0  0  0  0  0  0  0  0  0  0  0  0  0  0  0  0  0  0  0  0  0\n",
            "   0  0  0  0  0  0  0  0  0  0  0  0  0  0  0  0  0  0  0  0  0  0  0  0\n",
            "   0  0  0  0  0  0  0  0  0  0  0  0  0  0  0  0  0  0  0  0  0  0  0  0\n",
            "   0  0  0  0  0  0  0  0  0  0  0  0  0  0  0  0  0  0  0  0  0  0  0  0\n",
            "   0  0  0  0  0  0  0  0  0  0  0  0  0  0  0  0  0  0  0  0  0  0  0  0\n",
            "   0  0]]\n",
            "\n",
            "Length of vectorized chars: 290\n"
          ]
        }
      ],
      "source": [
        "# Test out character vectorizer\n",
        "random_train_chars = random.choice(train_chars)\n",
        "print(f\"Charified text:\\n{random_train_chars}\")\n",
        "print(f\"\\nLength of chars: {len(random_train_chars.split())}\")\n",
        "vectorized_chars = char_vectorizer([random_train_chars])\n",
        "print(f\"\\nVectorized chars:\\n{vectorized_chars}\")\n",
        "print(f\"\\nLength of vectorized chars: {len(vectorized_chars[0])}\")"
      ]
    },
    {
      "cell_type": "code",
      "execution_count": 76,
      "metadata": {
        "id": "-MWlnthLQ8uA"
      },
      "outputs": [],
      "source": [
        "# Create a character level embedding\n",
        "\n",
        "char_embed = Embedding(\n",
        "    input_dim=len(char_vocab),\n",
        "    output_dim=25,  # the size of the char embedding from the paper\n",
        "    mask_zero=True,\n",
        "    name=\"char_embed\")"
      ]
    },
    {
      "cell_type": "code",
      "execution_count": 77,
      "metadata": {
        "colab": {
          "base_uri": "https://localhost:8080/"
        },
        "id": "ksvDhWLrQ8uA",
        "outputId": "e8775b3c-0fb6-4626-b9e0-9d63627d6bfa"
      },
      "outputs": [
        {
          "name": "stdout",
          "output_type": "stream",
          "text": [
            "Charified text:\n",
            " w e   s t u d i e d   t h e   m e t a b o l i c   r e s p o n s e   t o   a   h i g h e r   o r   l o w e r   p r o t e i n   s u p p l y   i n   i n f a n c y   .\n",
            "\n",
            "Embedded chars. (after vectorization and embedding):\n",
            " [[[ 0.01244389  0.02135349  0.02854614 ...  0.03587915  0.00415332\n",
            "    0.00593624]\n",
            "  [ 0.02956272 -0.02322036 -0.03614338 ... -0.04738186  0.00062203\n",
            "    0.00798547]\n",
            "  [-0.02473824  0.02148184  0.00767943 ...  0.0399888   0.03585869\n",
            "   -0.03668563]\n",
            "  ...\n",
            "  [ 0.0132109   0.01844755  0.01332058 ...  0.01272574  0.02306009\n",
            "    0.01305684]\n",
            "  [ 0.0132109   0.01844755  0.01332058 ...  0.01272574  0.02306009\n",
            "    0.01305684]\n",
            "  [ 0.0132109   0.01844755  0.01332058 ...  0.01272574  0.02306009\n",
            "    0.01305684]]]\n",
            "Characater embedding shape: (1, 290, 25)\n"
          ]
        }
      ],
      "source": [
        "# Test out character embedding layer\n",
        "\n",
        "print(f\"Charified text:\\n {random_train_chars}\\n\")\n",
        "char_embed_example = char_embed(char_vectorizer([random_train_chars]))\n",
        "print(f\"Embedded chars. (after vectorization and embedding):\\n {char_embed_example}\")\n",
        "print(f\"Characater embedding shape: {char_embed_example.shape}\")"
      ]
    },
    {
      "cell_type": "code",
      "execution_count": 78,
      "metadata": {
        "id": "Y_yKbxsXQ8uB"
      },
      "outputs": [],
      "source": [
        "# Create the model\n",
        "\n",
        "inputs = layers.Input(shape=(1,), dtype=tf.string)\n",
        "char_vectorizer_layer = char_vectorizer(inputs)\n",
        "char_embeddding_layer = char_embed(char_vectorizer_layer)\n",
        "x = layers.Conv1D(64, kernel_size=5, padding=\"same\", activation=\"relu\")(char_embeddding_layer)\n",
        "x = layers.GlobalMaxPool1D()(x)\n",
        "outputs = layers.Dense(num_classes, activation=\"softmax\")(x)\n",
        "\n",
        "model_3 = tf.keras.Model(inputs, outputs, name=\"model_3_conv1d_char_embedding\")\n",
        "\n",
        "# Compile the model\n",
        "\n",
        "model_3.compile(\n",
        "    loss= \"categorical_crossentropy\",\n",
        "    optimizer= tf.optimizers.Adam(),\n",
        "    metrics= [\"accuracy\"]\n",
        ")"
      ]
    },
    {
      "cell_type": "code",
      "execution_count": 79,
      "metadata": {
        "colab": {
          "base_uri": "https://localhost:8080/"
        },
        "id": "sXyyfG3jQ8uB",
        "outputId": "76065cac-d625-4b67-f342-2d1038d64cdc"
      },
      "outputs": [
        {
          "name": "stdout",
          "output_type": "stream",
          "text": [
            "Model: \"model_3_conv1d_char_embedding\"\n",
            "_________________________________________________________________\n",
            " Layer (type)                Output Shape              Param #   \n",
            "=================================================================\n",
            " input_3 (InputLayer)        [(None, 1)]               0         \n",
            "                                                                 \n",
            " char_vectorizer (TextVector  (None, 290)              0         \n",
            " ization)                                                        \n",
            "                                                                 \n",
            " char_embed (Embedding)      (None, 290, 25)           700       \n",
            "                                                                 \n",
            " conv1d_1 (Conv1D)           (None, 290, 64)           8064      \n",
            "                                                                 \n",
            " global_max_pooling1d (Globa  (None, 64)               0         \n",
            " lMaxPooling1D)                                                  \n",
            "                                                                 \n",
            " dense_3 (Dense)             (None, 5)                 325       \n",
            "                                                                 \n",
            "=================================================================\n",
            "Total params: 9,089\n",
            "Trainable params: 9,089\n",
            "Non-trainable params: 0\n",
            "_________________________________________________________________\n"
          ]
        }
      ],
      "source": [
        "# Get the summary of the model\n",
        "\n",
        "model_3.summary()"
      ]
    },
    {
      "cell_type": "code",
      "execution_count": 80,
      "metadata": {
        "id": "ZI3xr8XRQ8uC"
      },
      "outputs": [],
      "source": [
        "# Create char level datasets\n",
        "\n",
        "train_char_dataset = tf.data.Dataset.from_tensor_slices((train_chars, train_labels_one_hot)).batch(32).prefetch(tf.data.AUTOTUNE)\n",
        "val_char_dataset = tf.data.Dataset.from_tensor_slices((val_chars, val_labels_one_hot)).batch(32).prefetch(tf.data.AUTOTUNE)\n",
        "test_char_dataset = tf.data.Dataset.from_tensor_slices((test_chars, test_labels_one_hot)).batch(32).prefetch(tf.data.AUTOTUNE)"
      ]
    },
    {
      "cell_type": "code",
      "execution_count": 81,
      "metadata": {
        "colab": {
          "base_uri": "https://localhost:8080/"
        },
        "id": "IfWKRKhyQ8uC",
        "outputId": "3fb06c18-96f5-4aee-8802-cc7ccaff0969"
      },
      "outputs": [
        {
          "name": "stdout",
          "output_type": "stream",
          "text": [
            "Epoch 1/3\n",
            "562/562 [==============================] - 4s 6ms/step - loss: 1.2575 - accuracy: 0.4890 - val_loss: 1.0337 - val_accuracy: 0.5844\n",
            "Epoch 2/3\n",
            "562/562 [==============================] - 3s 6ms/step - loss: 0.9968 - accuracy: 0.6028 - val_loss: 0.9318 - val_accuracy: 0.6410\n",
            "Epoch 3/3\n",
            "562/562 [==============================] - 3s 6ms/step - loss: 0.9229 - accuracy: 0.6404 - val_loss: 0.8673 - val_accuracy: 0.6679\n"
          ]
        }
      ],
      "source": [
        "# Fit the model\n",
        "\n",
        "history_model_3 = model_3.fit(\n",
        "    train_char_dataset,\n",
        "    epochs=3,\n",
        "    steps_per_epoch= (0.1 * len(train_char_dataset)),\n",
        "    validation_data= val_char_dataset,\n",
        "    validation_steps= int(0.1 * len(val_dataset))\n",
        ")"
      ]
    },
    {
      "cell_type": "markdown",
      "metadata": {
        "id": "51c0W4_uQ8uC"
      },
      "source": [
        "**Note:** Using Average Pooling resulted in `val_accuracy: 0.4461`, however using Max Pooling got us `val_accuracy: 0.6602`"
      ]
    },
    {
      "cell_type": "code",
      "execution_count": 82,
      "metadata": {
        "colab": {
          "base_uri": "https://localhost:8080/"
        },
        "id": "cQ8KzJrnQ8uD",
        "outputId": "a23375eb-ce45-47f8-b338-d16b5a7f52bb"
      },
      "outputs": [
        {
          "data": {
            "text/plain": [
              "array([[0.15924557, 0.31592587, 0.14522569, 0.27535015, 0.10425275],\n",
              "       [0.27344474, 0.5056458 , 0.01274878, 0.11332849, 0.0948322 ],\n",
              "       [0.11093859, 0.33275422, 0.2158021 , 0.18333466, 0.15717037],\n",
              "       ...,\n",
              "       [0.02137451, 0.04175682, 0.11085238, 0.03580321, 0.79021305],\n",
              "       [0.02586662, 0.13029493, 0.25219455, 0.06621025, 0.52543366],\n",
              "       [0.29945332, 0.534296  , 0.06516439, 0.08537427, 0.01571204]],\n",
              "      dtype=float32)"
            ]
          },
          "execution_count": 82,
          "metadata": {},
          "output_type": "execute_result"
        }
      ],
      "source": [
        "# Make predictions with character model only\n",
        "\n",
        "model_3_pred_probs = model_3.predict(val_char_dataset)\n",
        "model_3_pred_probs"
      ]
    },
    {
      "cell_type": "code",
      "execution_count": 83,
      "metadata": {
        "colab": {
          "base_uri": "https://localhost:8080/"
        },
        "id": "uUr-zbwnQ8uD",
        "outputId": "d6463666-c7e6-4917-e5c0-426526547461"
      },
      "outputs": [
        {
          "data": {
            "text/plain": [
              "<tf.Tensor: shape=(30212,), dtype=int64, numpy=array([1, 1, 1, ..., 4, 4, 1])>"
            ]
          },
          "execution_count": 83,
          "metadata": {},
          "output_type": "execute_result"
        }
      ],
      "source": [
        "# Convert prediction probabilities to class labels\n",
        "\n",
        "model_3_preds = tf.argmax(model_3_pred_probs, axis=1)\n",
        "model_3_preds"
      ]
    },
    {
      "cell_type": "code",
      "execution_count": 84,
      "metadata": {
        "colab": {
          "base_uri": "https://localhost:8080/"
        },
        "id": "Oo1oC6h0Q8uE",
        "outputId": "25a53ba7-315f-495d-f0c1-34e9a5cd0d9e"
      },
      "outputs": [
        {
          "data": {
            "text/plain": [
              "{'accuracy': 65.80166821130676,\n",
              " 'f1': 0.6459058076419392,\n",
              " 'precision': 0.6541708022609578,\n",
              " 'recall': 0.6580166821130676}"
            ]
          },
          "execution_count": 84,
          "metadata": {},
          "output_type": "execute_result"
        }
      ],
      "source": [
        "# Calculate results for the model\n",
        "\n",
        "model_3_result = calculate_results(\n",
        "    y_true= val_labels_encoded,\n",
        "    y_pred= model_3_preds\n",
        ")\n",
        "\n",
        "model_3_result"
      ]
    },
    {
      "cell_type": "markdown",
      "metadata": {
        "id": "r1nTlfo8Q8uE"
      },
      "source": [
        "Looks like this is performing at an all time low. Lets compare it to model_1"
      ]
    },
    {
      "cell_type": "code",
      "execution_count": 85,
      "metadata": {
        "colab": {
          "base_uri": "https://localhost:8080/"
        },
        "id": "e3c3PX96Q8uE",
        "outputId": "13beda0e-96b1-4e26-e46d-54dd31442953"
      },
      "outputs": [
        {
          "data": {
            "text/plain": [
              "{'accuracy': 78.54163908380775,\n",
              " 'f1': 0.7830387757770575,\n",
              " 'precision': 0.7821026805026697,\n",
              " 'recall': 0.7854163908380776}"
            ]
          },
          "execution_count": 85,
          "metadata": {},
          "output_type": "execute_result"
        }
      ],
      "source": [
        "model_1_result"
      ]
    },
    {
      "cell_type": "markdown",
      "metadata": {
        "id": "0JVkRfE5Q8uF"
      },
      "source": [
        "### Model 4: Combining pretrained token embeddings + character embeddings (hybrid model)"
      ]
    },
    {
      "cell_type": "code",
      "execution_count": 86,
      "metadata": {
        "id": "wA3W67fMQ8uF"
      },
      "outputs": [],
      "source": [
        "# Set up the token inputs/model\n",
        "\n",
        "token_inputs = layers.Input(shape=[], dtype=tf.string, name=\"token_input\")\n",
        "token_embeddings = tf_hub_embedding_layer(token_inputs)\n",
        "token_output = layers.Dense(128, activation=\"relu\")(token_embeddings)\n",
        "\n",
        "token_model = tf.keras.Model(inputs=token_inputs, outputs=token_output)"
      ]
    },
    {
      "cell_type": "code",
      "execution_count": 87,
      "metadata": {
        "id": "cQXikycnQ8uF"
      },
      "outputs": [],
      "source": [
        "# Setup char inputs/model\n",
        "\n",
        "char_inputs = layers.Input(shape=(1,), dtype=tf.string, name=\"char_input\")\n",
        "char_vectors = char_vectorizer(char_inputs)\n",
        "char_embeddings = char_embed(char_vectors)\n",
        "char_bi_lstm = layers.Bidirectional(layers.LSTM(24))(char_embeddings)   # from the paper\n",
        "\n",
        "char_model = tf.keras.Model(\n",
        "    inputs= char_inputs,\n",
        "    outputs= char_bi_lstm\n",
        ")"
      ]
    },
    {
      "cell_type": "code",
      "execution_count": 88,
      "metadata": {
        "id": "1lT1hq15Q8uG"
      },
      "outputs": [],
      "source": [
        "# Concatenate token and char outputs\n",
        "\n",
        "token_char_concat = layers.Concatenate(name=\"token_char_hybrid\")([token_model.output, char_model.output])"
      ]
    },
    {
      "cell_type": "code",
      "execution_count": 89,
      "metadata": {
        "id": "1f7LsE3BQ8uG"
      },
      "outputs": [],
      "source": [
        "# Create the output layers - adding in Dropout, as in the paper\n",
        "\n",
        "combined_dropout = layers.Dropout(0.5)(token_char_concat)\n",
        "combined_dense = layers.Dense(128, activation=\"relu\")(combined_dropout)\n",
        "final_dropout = layers.Dropout(0.5)(combined_dense)\n",
        "output_layer = layers.Dense(num_classes, activation=\"softmax\")(final_dropout)"
      ]
    },
    {
      "cell_type": "code",
      "execution_count": 90,
      "metadata": {
        "id": "Cyp4r-kZQ8uG"
      },
      "outputs": [],
      "source": [
        "# Finally create the model\n",
        "\n",
        "model_4 = tf.keras.Model(\n",
        "    inputs= [token_model.inputs, char_model.inputs],\n",
        "    outputs= output_layer,\n",
        "    name=\"model_4_hybrid\"\n",
        ")"
      ]
    },
    {
      "cell_type": "code",
      "execution_count": 91,
      "metadata": {
        "colab": {
          "base_uri": "https://localhost:8080/"
        },
        "id": "J5sBen8DQ8uH",
        "outputId": "5615ca2d-dbd6-45df-a31a-d8eea8952383"
      },
      "outputs": [
        {
          "name": "stdout",
          "output_type": "stream",
          "text": [
            "Model: \"model_4_hybrid\"\n",
            "__________________________________________________________________________________________________\n",
            " Layer (type)                   Output Shape         Param #     Connected to                     \n",
            "==================================================================================================\n",
            " char_input (InputLayer)        [(None, 1)]          0           []                               \n",
            "                                                                                                  \n",
            " token_input (InputLayer)       [(None,)]            0           []                               \n",
            "                                                                                                  \n",
            " char_vectorizer (TextVectoriza  (None, 290)         0           ['char_input[0][0]']             \n",
            " tion)                                                                                            \n",
            "                                                                                                  \n",
            " USE_encoder (KerasLayer)       (None, 512)          256797824   ['token_input[0][0]']            \n",
            "                                                                                                  \n",
            " char_embed (Embedding)         (None, 290, 25)      700         ['char_vectorizer[1][0]']        \n",
            "                                                                                                  \n",
            " dense_4 (Dense)                (None, 128)          65664       ['USE_encoder[1][0]']            \n",
            "                                                                                                  \n",
            " bidirectional (Bidirectional)  (None, 48)           9600        ['char_embed[1][0]']             \n",
            "                                                                                                  \n",
            " token_char_hybrid (Concatenate  (None, 176)         0           ['dense_4[0][0]',                \n",
            " )                                                                'bidirectional[0][0]']          \n",
            "                                                                                                  \n",
            " dropout (Dropout)              (None, 176)          0           ['token_char_hybrid[0][0]']      \n",
            "                                                                                                  \n",
            " dense_5 (Dense)                (None, 128)          22656       ['dropout[0][0]']                \n",
            "                                                                                                  \n",
            " dropout_1 (Dropout)            (None, 128)          0           ['dense_5[0][0]']                \n",
            "                                                                                                  \n",
            " dense_6 (Dense)                (None, 5)            645         ['dropout_1[0][0]']              \n",
            "                                                                                                  \n",
            "==================================================================================================\n",
            "Total params: 256,897,089\n",
            "Trainable params: 99,265\n",
            "Non-trainable params: 256,797,824\n",
            "__________________________________________________________________________________________________\n"
          ]
        }
      ],
      "source": [
        "# get the summary\n",
        "\n",
        "model_4.summary()"
      ]
    },
    {
      "cell_type": "code",
      "execution_count": 92,
      "metadata": {
        "colab": {
          "base_uri": "https://localhost:8080/",
          "height": 54
        },
        "id": "XM3vhuQCQ8uH",
        "outputId": "bbe29def-b75e-41d8-da5d-155e3b597c3d"
      },
      "outputs": [
        {
          "data": {
            "image/png": "[encoded data removed]",
            "text/plain": [
              "<IPython.core.display.Image object>"
            ]
          },
          "execution_count": 92,
          "metadata": {},
          "output_type": "execute_result"
        }
      ],
      "source": [
        "# Plot the hybrid model to help visualize such model\n",
        "\n",
        "from tensorflow.keras.utils import plot_model\n",
        "\n",
        "plot_model(model_4, show_shapes=True)"
      ]
    },
    {
      "cell_type": "code",
      "execution_count": 93,
      "metadata": {
        "id": "0R9vnpHNQ8uH"
      },
      "outputs": [],
      "source": [
        "# Compile the model\n",
        "\n",
        "model_4.compile(\n",
        "    loss=\"categorical_crossentropy\",\n",
        "    optimizer=tf.keras.optimizers.Adam(),    # the paper states SGD, however, Ill try it with Adam\n",
        "    metrics=[\"accuracy\"]\n",
        ")"
      ]
    },
    {
      "cell_type": "code",
      "execution_count": 94,
      "metadata": {
        "id": "ROXETfDYQ8uH"
      },
      "outputs": [],
      "source": [
        "# Combine chars and tokens into a dataset\n",
        "\n",
        "train_char_token_data = tf.data.Dataset.from_tensor_slices((train_sentences, train_chars))\n",
        "train_char_token_labels = tf.data.Dataset.from_tensor_slices(train_labels_one_hot)\n",
        "train_char_token_dataset = tf.data.Dataset.zip((train_char_token_data, train_char_token_labels))"
      ]
    },
    {
      "cell_type": "code",
      "execution_count": 95,
      "metadata": {
        "id": "6rTZv-ymQ8uI"
      },
      "outputs": [],
      "source": [
        "# Create prefetch and apply batch size\n",
        "\n",
        "train_char_token_dataset = train_char_token_dataset.batch(32).prefetch(tf.data.AUTOTUNE)"
      ]
    },
    {
      "cell_type": "code",
      "execution_count": 96,
      "metadata": {
        "id": "0wotbz15Q8uI"
      },
      "outputs": [],
      "source": [
        "# Perform the same creation for both val and test data\n",
        "\n",
        "val_char_token_data = tf.data.Dataset.from_tensor_slices((val_sentences, val_chars))\n",
        "val_char_token_labels = tf.data.Dataset.from_tensor_slices(val_labels_one_hot)\n",
        "val_char_token_dataset = tf.data.Dataset.zip((val_char_token_data, val_char_token_labels))\n",
        "\n",
        "val_char_token_dataset = val_char_token_dataset.batch(32).prefetch(tf.data.AUTOTUNE)\n",
        "\n",
        "\n",
        "test_char_token_data = tf.data.Dataset.from_tensor_slices((test_sentences, test_chars))\n",
        "test_char_token_labels = tf.data.Dataset.from_tensor_slices(test_labels_one_hot)\n",
        "test_char_token_dataset = tf.data.Dataset.zip((test_char_token_data, test_char_token_labels))\n",
        "\n",
        "test_char_token_dataset = test_char_token_dataset.batch(32).prefetch(tf.data.AUTOTUNE)"
      ]
    },
    {
      "cell_type": "code",
      "execution_count": 97,
      "metadata": {
        "colab": {
          "base_uri": "https://localhost:8080/"
        },
        "id": "FzhgIu1wQ8uI",
        "outputId": "95037266-b68f-4879-e8f0-61ea44a2a9f4"
      },
      "outputs": [
        {
          "data": {
            "text/plain": [
              "(<PrefetchDataset element_spec=((TensorSpec(shape=(None,), dtype=tf.string, name=None), TensorSpec(shape=(None,), dtype=tf.string, name=None)), TensorSpec(shape=(None, 5), dtype=tf.float64, name=None))>,\n",
              " <PrefetchDataset element_spec=((TensorSpec(shape=(None,), dtype=tf.string, name=None), TensorSpec(shape=(None,), dtype=tf.string, name=None)), TensorSpec(shape=(None, 5), dtype=tf.float64, name=None))>,\n",
              " <PrefetchDataset element_spec=((TensorSpec(shape=(None,), dtype=tf.string, name=None), TensorSpec(shape=(None,), dtype=tf.string, name=None)), TensorSpec(shape=(None, 5), dtype=tf.float64, name=None))>)"
            ]
          },
          "execution_count": 97,
          "metadata": {},
          "output_type": "execute_result"
        }
      ],
      "source": [
        "train_char_token_dataset, val_char_token_dataset, test_char_token_dataset"
      ]
    },
    {
      "cell_type": "code",
      "execution_count": 98,
      "metadata": {
        "colab": {
          "base_uri": "https://localhost:8080/"
        },
        "id": "vYt7y5YFQ8uJ",
        "outputId": "6496a992-6ab8-4e90-cf12-99dea366b5e1"
      },
      "outputs": [
        {
          "name": "stdout",
          "output_type": "stream",
          "text": [
            "Epoch 1/3\n",
            "562/562 [==============================] - 41s 56ms/step - loss: 0.9833 - accuracy: 0.6108 - val_loss: 0.7961 - val_accuracy: 0.6981\n",
            "Epoch 2/3\n",
            "562/562 [==============================] - 29s 52ms/step - loss: 0.8042 - accuracy: 0.6900 - val_loss: 0.7175 - val_accuracy: 0.7267\n",
            "Epoch 3/3\n",
            "562/562 [==============================] - 26s 47ms/step - loss: 0.7765 - accuracy: 0.7038 - val_loss: 0.6854 - val_accuracy: 0.7374\n"
          ]
        }
      ],
      "source": [
        "# Fit the model\n",
        "\n",
        "history_model_4 = model_4.fit(\n",
        "    train_char_token_dataset,\n",
        "    epochs=3,\n",
        "    steps_per_epoch= (0.1 * len(train_char_token_dataset)),\n",
        "    validation_data= val_char_token_dataset,\n",
        "    validation_steps= int(0.1 * len(val_char_token_dataset))\n",
        ")"
      ]
    },
    {
      "cell_type": "code",
      "execution_count": 99,
      "metadata": {
        "colab": {
          "base_uri": "https://localhost:8080/"
        },
        "id": "AS7gg9HCQ8uJ",
        "outputId": "00373467-e04a-4b89-cc51-13d3a40be5cb"
      },
      "outputs": [
        {
          "name": "stdout",
          "output_type": "stream",
          "text": [
            "945/945 [==============================] - 25s 26ms/step - loss: 0.6908 - accuracy: 0.7354\n"
          ]
        },
        {
          "data": {
            "text/plain": [
              "[0.6908285021781921, 0.7353700399398804]"
            ]
          },
          "execution_count": 99,
          "metadata": {},
          "output_type": "execute_result"
        }
      ],
      "source": [
        "# Evaluate on the val dataset\n",
        "\n",
        "model_4.evaluate(val_char_token_dataset)"
      ]
    },
    {
      "cell_type": "code",
      "execution_count": 100,
      "metadata": {
        "colab": {
          "base_uri": "https://localhost:8080/"
        },
        "id": "zR2sMIX3Q8uJ",
        "outputId": "c031b5ce-9748-4173-9796-60df86d56e46"
      },
      "outputs": [
        {
          "data": {
            "text/plain": [
              "array([[4.4144258e-01, 3.5307410e-01, 4.8170318e-03, 1.8963246e-01,\n",
              "        1.1033821e-02],\n",
              "       [2.9779413e-01, 5.3882134e-01, 5.3106905e-03, 1.5523285e-01,\n",
              "        2.8410358e-03],\n",
              "       [3.0411831e-01, 1.9397098e-01, 6.7999117e-02, 3.7141842e-01,\n",
              "        6.2493116e-02],\n",
              "       ...,\n",
              "       [6.0818996e-04, 1.0829273e-02, 5.3612594e-02, 1.8950454e-04,\n",
              "        9.3476039e-01],\n",
              "       [6.3365400e-03, 6.6870466e-02, 2.2670174e-01, 2.5378289e-03,\n",
              "        6.9755346e-01],\n",
              "       [2.8109029e-01, 3.9071086e-01, 2.6686200e-01, 3.1335078e-02,\n",
              "        3.0001797e-02]], dtype=float32)"
            ]
          },
          "execution_count": 100,
          "metadata": {},
          "output_type": "execute_result"
        }
      ],
      "source": [
        "# Make predictions using the hybrid model\n",
        "\n",
        "model_4_pred_probs = model_4.predict(val_char_token_dataset)\n",
        "model_4_pred_probs"
      ]
    },
    {
      "cell_type": "code",
      "execution_count": 101,
      "metadata": {
        "colab": {
          "base_uri": "https://localhost:8080/"
        },
        "id": "V8nTqkUQQ8uK",
        "outputId": "768111ee-7da6-482e-ed9f-84d7dbd3635a"
      },
      "outputs": [
        {
          "data": {
            "text/plain": [
              "<tf.Tensor: shape=(30212,), dtype=int64, numpy=array([0, 1, 3, ..., 4, 4, 1])>"
            ]
          },
          "execution_count": 101,
          "metadata": {},
          "output_type": "execute_result"
        }
      ],
      "source": [
        "# Convert the predicition probabilities to prediction labels\n",
        "\n",
        "model_4_preds = tf.argmax(model_4_pred_probs, axis=1)\n",
        "model_4_preds"
      ]
    },
    {
      "cell_type": "code",
      "execution_count": 102,
      "metadata": {
        "colab": {
          "base_uri": "https://localhost:8080/"
        },
        "id": "igi4vsTKQ8uK",
        "outputId": "88e85d12-fe91-481f-fc69-c25d9e03da18"
      },
      "outputs": [
        {
          "data": {
            "text/plain": [
              "{'accuracy': 73.53700516351118,\n",
              " 'f1': 0.7320964895337477,\n",
              " 'precision': 0.7365913681016637,\n",
              " 'recall': 0.7353700516351118}"
            ]
          },
          "execution_count": 102,
          "metadata": {},
          "output_type": "execute_result"
        }
      ],
      "source": [
        "# Calculate the results of the model\n",
        "\n",
        "model_4_result = calculate_results(\n",
        "    y_true=val_labels_encoded,\n",
        "    y_pred=model_4_preds\n",
        ")\n",
        "\n",
        "model_4_result"
      ]
    },
    {
      "cell_type": "code",
      "execution_count": 103,
      "metadata": {
        "colab": {
          "base_uri": "https://localhost:8080/"
        },
        "id": "7i-Z5EvmQ8uL",
        "outputId": "60fb06ab-5c84-4bce-93b5-df8a115bb9db"
      },
      "outputs": [
        {
          "data": {
            "text/plain": [
              "{'accuracy': 78.54163908380775,\n",
              " 'f1': 0.7830387757770575,\n",
              " 'precision': 0.7821026805026697,\n",
              " 'recall': 0.7854163908380776}"
            ]
          },
          "execution_count": 103,
          "metadata": {},
          "output_type": "execute_result"
        }
      ],
      "source": [
        "# Compare it with our top performing model\n",
        "\n",
        "model_1_result"
      ]
    },
    {
      "cell_type": "markdown",
      "metadata": {
        "id": "e-Kr41BQQ8uL"
      },
      "source": [
        "Still not better than model 1, however, we are on the right track"
      ]
    },
    {
      "cell_type": "markdown",
      "metadata": {
        "id": "sz4HWhM_Q8uL"
      },
      "source": [
        "### Model 5: Transfer Learning with pretrained token embeddings + character embeddings + positional embeddings"
      ]
    },
    {
      "cell_type": "markdown",
      "metadata": {
        "id": "eKyeuPWNQ8uL"
      },
      "source": [
        "Ill use the engineered features made availabel in the dictionary of samples to be able to use positional embeddings.\n",
        "\n",
        "\n",
        "These features are `line number` and `total lines`"
      ]
    },
    {
      "cell_type": "code",
      "execution_count": 104,
      "metadata": {
        "colab": {
          "base_uri": "https://localhost:8080/"
        },
        "id": "WvkeWXu3Q8uM",
        "outputId": "6125ce08-3974-43d3-e0b9-ea9bf6f4670e"
      },
      "outputs": [
        {
          "data": {
            "text/plain": [
              "0     15000\n",
              "1     15000\n",
              "2     15000\n",
              "3     15000\n",
              "4     14992\n",
              "5     14949\n",
              "6     14758\n",
              "7     14279\n",
              "8     13346\n",
              "9     11981\n",
              "10    10041\n",
              "11     7892\n",
              "12     5853\n",
              "13     4152\n",
              "14     2835\n",
              "15     1861\n",
              "16     1188\n",
              "17      751\n",
              "18      462\n",
              "19      286\n",
              "20      162\n",
              "21      101\n",
              "22       66\n",
              "23       33\n",
              "24       22\n",
              "25       14\n",
              "26        7\n",
              "27        4\n",
              "28        3\n",
              "29        1\n",
              "30        1\n",
              "Name: line_number, dtype: int64"
            ]
          },
          "execution_count": 104,
          "metadata": {},
          "output_type": "execute_result"
        }
      ],
      "source": [
        "# How many different line numbers are there?\n",
        "train_df[\"line_number\"].value_counts()"
      ]
    },
    {
      "cell_type": "code",
      "execution_count": 105,
      "metadata": {
        "colab": {
          "base_uri": "https://localhost:8080/",
          "height": 282
        },
        "id": "DOPO9xP6Q8uM",
        "outputId": "29a0e233-8162-400b-e1b1-c8dfb5202f1d"
      },
      "outputs": [
        {
          "data": {
            "text/plain": [
              "<matplotlib.axes._subplots.AxesSubplot at 0x7fa41f9f3550>"
            ]
          },
          "execution_count": 105,
          "metadata": {},
          "output_type": "execute_result"
        },
        {
          "data": {
            "image/png": "[encoded data removed]",
            "text/plain": [
              "<Figure size 432x288 with 1 Axes>"
            ]
          },
          "metadata": {
            "needs_background": "light"
          },
          "output_type": "display_data"
        }
      ],
      "source": [
        "# Check the distribution of line number column\n",
        "\n",
        "train_df.line_number.plot.hist()"
      ]
    },
    {
      "cell_type": "markdown",
      "metadata": {
        "id": "Xqx-gjaqQ8uM"
      },
      "source": [
        "Lets encode the line number column using tensorflow's one hot encode"
      ]
    },
    {
      "cell_type": "code",
      "execution_count": 106,
      "metadata": {
        "colab": {
          "base_uri": "https://localhost:8080/"
        },
        "id": "vHPoRAQ1Q8uN",
        "outputId": "affa3507-ffb4-4482-efd4-1dee94aa58f1"
      },
      "outputs": [
        {
          "data": {
            "text/plain": [
              "(<tf.Tensor: shape=(10, 15), dtype=float32, numpy=\n",
              " array([[1., 0., 0., 0., 0., 0., 0., 0., 0., 0., 0., 0., 0., 0., 0.],\n",
              "        [0., 1., 0., 0., 0., 0., 0., 0., 0., 0., 0., 0., 0., 0., 0.],\n",
              "        [0., 0., 1., 0., 0., 0., 0., 0., 0., 0., 0., 0., 0., 0., 0.],\n",
              "        [0., 0., 0., 1., 0., 0., 0., 0., 0., 0., 0., 0., 0., 0., 0.],\n",
              "        [0., 0., 0., 0., 1., 0., 0., 0., 0., 0., 0., 0., 0., 0., 0.],\n",
              "        [0., 0., 0., 0., 0., 1., 0., 0., 0., 0., 0., 0., 0., 0., 0.],\n",
              "        [0., 0., 0., 0., 0., 0., 1., 0., 0., 0., 0., 0., 0., 0., 0.],\n",
              "        [0., 0., 0., 0., 0., 0., 0., 1., 0., 0., 0., 0., 0., 0., 0.],\n",
              "        [0., 0., 0., 0., 0., 0., 0., 0., 1., 0., 0., 0., 0., 0., 0.],\n",
              "        [0., 0., 0., 0., 0., 0., 0., 0., 0., 1., 0., 0., 0., 0., 0.]],\n",
              "       dtype=float32)>, TensorShape([180040, 15]))"
            ]
          },
          "execution_count": 106,
          "metadata": {},
          "output_type": "execute_result"
        }
      ],
      "source": [
        "train_line_numbers_one_hot = tf.one_hot(train_df.line_number.to_numpy(), depth=15)\n",
        "train_line_numbers_one_hot[:10], train_line_numbers_one_hot.shape"
      ]
    },
    {
      "cell_type": "code",
      "execution_count": 107,
      "metadata": {
        "id": "spfCCGB9Q8uN"
      },
      "outputs": [],
      "source": [
        "# Perform the same encoding to val and test data\n",
        "\n",
        "val_line_numbers_one_hot = tf.one_hot(val_df.line_number.to_numpy(), depth=15)\n",
        "test_line_numbers_one_hot = tf.one_hot(test_df.line_number.to_numpy(), depth=15)"
      ]
    },
    {
      "cell_type": "code",
      "execution_count": 108,
      "metadata": {
        "colab": {
          "base_uri": "https://localhost:8080/"
        },
        "id": "KDHycQpJQ8uN",
        "outputId": "64c231d6-42ee-4c1f-b56b-20408bdf3d80"
      },
      "outputs": [
        {
          "data": {
            "text/plain": [
              "11    24468\n",
              "10    23639\n",
              "12    22113\n",
              "9     19400\n",
              "13    18438\n",
              "14    14610\n",
              "8     12285\n",
              "15    10768\n",
              "7      7464\n",
              "16     7429\n",
              "17     5202\n",
              "6      3353\n",
              "18     3344\n",
              "19     2480\n",
              "20     1281\n",
              "5      1146\n",
              "21      770\n",
              "22      759\n",
              "23      264\n",
              "4       215\n",
              "24      200\n",
              "25      182\n",
              "26       81\n",
              "28       58\n",
              "3        32\n",
              "30       31\n",
              "27       28\n",
              "Name: total_lines, dtype: int64"
            ]
          },
          "execution_count": 108,
          "metadata": {},
          "output_type": "execute_result"
        }
      ],
      "source": [
        "# Perform the same steps to the feature total lines\n",
        "\n",
        "# Get the total lines count\n",
        "\n",
        "train_df[\"total_lines\"].value_counts()"
      ]
    },
    {
      "cell_type": "code",
      "execution_count": 109,
      "metadata": {
        "colab": {
          "base_uri": "https://localhost:8080/",
          "height": 284
        },
        "id": "wqlMOn8zQ8uO",
        "outputId": "91d3eea4-a86b-43dc-b4d4-fce6494720c1"
      },
      "outputs": [
        {
          "data": {
            "text/plain": [
              "<matplotlib.axes._subplots.AxesSubplot at 0x7fa41f178610>"
            ]
          },
          "execution_count": 109,
          "metadata": {},
          "output_type": "execute_result"
        },
        {
          "data": {
            "image/png": "[encoded data removed]",
            "text/plain": [
              "<Figure size 432x288 with 1 Axes>"
            ]
          },
          "metadata": {
            "needs_background": "light"
          },
          "output_type": "display_data"
        }
      ],
      "source": [
        "# See what the distribution look like for total lines\n",
        "\n",
        "train_df[\"total_lines\"].plot.hist()"
      ]
    },
    {
      "cell_type": "code",
      "execution_count": 110,
      "metadata": {
        "colab": {
          "base_uri": "https://localhost:8080/"
        },
        "id": "NEQNvv1oQ8uO",
        "outputId": "3b927fab-895b-430d-a7d8-95af93e493de"
      },
      "outputs": [
        {
          "data": {
            "text/plain": [
              "(<tf.Tensor: shape=(10, 20), dtype=float32, numpy=\n",
              " array([[0., 0., 0., 0., 0., 0., 0., 0., 0., 0., 0., 1., 0., 0., 0., 0.,\n",
              "         0., 0., 0., 0.],\n",
              "        [0., 0., 0., 0., 0., 0., 0., 0., 0., 0., 0., 1., 0., 0., 0., 0.,\n",
              "         0., 0., 0., 0.],\n",
              "        [0., 0., 0., 0., 0., 0., 0., 0., 0., 0., 0., 1., 0., 0., 0., 0.,\n",
              "         0., 0., 0., 0.],\n",
              "        [0., 0., 0., 0., 0., 0., 0., 0., 0., 0., 0., 1., 0., 0., 0., 0.,\n",
              "         0., 0., 0., 0.],\n",
              "        [0., 0., 0., 0., 0., 0., 0., 0., 0., 0., 0., 1., 0., 0., 0., 0.,\n",
              "         0., 0., 0., 0.],\n",
              "        [0., 0., 0., 0., 0., 0., 0., 0., 0., 0., 0., 1., 0., 0., 0., 0.,\n",
              "         0., 0., 0., 0.],\n",
              "        [0., 0., 0., 0., 0., 0., 0., 0., 0., 0., 0., 1., 0., 0., 0., 0.,\n",
              "         0., 0., 0., 0.],\n",
              "        [0., 0., 0., 0., 0., 0., 0., 0., 0., 0., 0., 1., 0., 0., 0., 0.,\n",
              "         0., 0., 0., 0.],\n",
              "        [0., 0., 0., 0., 0., 0., 0., 0., 0., 0., 0., 1., 0., 0., 0., 0.,\n",
              "         0., 0., 0., 0.],\n",
              "        [0., 0., 0., 0., 0., 0., 0., 0., 0., 0., 0., 1., 0., 0., 0., 0.,\n",
              "         0., 0., 0., 0.]], dtype=float32)>, TensorShape([180040, 20]))"
            ]
          },
          "execution_count": 110,
          "metadata": {},
          "output_type": "execute_result"
        }
      ],
      "source": [
        "# Encode the total lines feature\n",
        "\n",
        "train_total_lines_one_hot = tf.one_hot(train_df[\"total_lines\"].to_numpy(), depth=20)\n",
        "\n",
        "train_total_lines_one_hot[:10], train_total_lines_one_hot.shape"
      ]
    },
    {
      "cell_type": "code",
      "execution_count": 111,
      "metadata": {
        "id": "Wf_oNvi0Q8uP"
      },
      "outputs": [],
      "source": [
        "# Perform the same encoding to val and test data\n",
        "\n",
        "val_total_lines_one_hot = tf.one_hot(val_df[\"total_lines\"].to_numpy(), depth=20)\n",
        "test_total_lines_one_hot = tf.one_hot(test_df[\"total_lines\"].to_numpy(), depth=20)"
      ]
    },
    {
      "cell_type": "markdown",
      "metadata": {
        "id": "yzymGDz2Q8uP"
      },
      "source": [
        "Time to create the models that will be concatenated into a whole model"
      ]
    },
    {
      "cell_type": "markdown",
      "metadata": {
        "id": "yDOq79CEQ8uP"
      },
      "source": [
        "Since we made the previous 2 models, `token_model` and `char_model`, and concatenated them into `token_char_concat` layer, we will only need to build the models for the 2 feature engineered properties. However, I have rebuilt again for readability."
      ]
    },
    {
      "cell_type": "code",
      "execution_count": 112,
      "metadata": {
        "id": "IQz6YI6RVVKw"
      },
      "outputs": [],
      "source": [
        "# 1. Token inputs\n",
        "token_inputs = layers.Input(shape=[], dtype=\"string\", name=\"token_inputs\")\n",
        "token_embeddings = tf_hub_embedding_layer(token_inputs)\n",
        "token_outputs = layers.Dense(128, activation=\"relu\")(token_embeddings)\n",
        "token_model = tf.keras.Model(inputs=token_inputs,\n",
        "                             outputs=token_outputs)\n",
        "\n",
        "# 2. Char inputs\n",
        "char_inputs = layers.Input(shape=(1,), dtype=\"string\", name=\"char_inputs\")\n",
        "char_vectors = char_vectorizer(char_inputs)\n",
        "char_embeddings = char_embed(char_vectors)\n",
        "char_bi_lstm = layers.Bidirectional(layers.LSTM(32))(char_embeddings)\n",
        "char_model = tf.keras.Model(inputs=char_inputs,\n",
        "                            outputs=char_bi_lstm)\n",
        "\n",
        "# 3. Line numbers inputs\n",
        "line_number_inputs = layers.Input(shape=(15,), dtype=tf.int32, name=\"line_number_input\")\n",
        "x = layers.Dense(32, activation=\"relu\")(line_number_inputs)\n",
        "line_number_model = tf.keras.Model(inputs=line_number_inputs,\n",
        "                                   outputs=x)\n",
        "\n",
        "# 4. Total lines inputs\n",
        "total_lines_inputs = layers.Input(shape=(20,), dtype=tf.int32, name=\"total_lines_input\")\n",
        "y = layers.Dense(32, activation=\"relu\")(total_lines_inputs)\n",
        "total_line_model = tf.keras.Model(inputs=total_lines_inputs,\n",
        "                                  outputs=y)\n",
        "\n",
        "# 5. Combine token and char embeddings into a hybrid embedding\n",
        "combined_embeddings = layers.Concatenate(name=\"token_char_hybrid_embedding\")([token_model.output, \n",
        "                                                                              char_model.output])\n",
        "z = layers.Dense(256, activation=\"relu\")(combined_embeddings)\n",
        "z = layers.Dropout(0.5)(z)\n",
        "\n",
        "# 6. Combine positional embeddings with combined token and char embeddings into a tribrid embedding\n",
        "z = layers.Concatenate(name=\"token_char_positional_embedding\")([line_number_model.output,\n",
        "                                                                total_line_model.output,\n",
        "                                                                z])\n",
        "\n",
        "# 7. Create output layer\n",
        "output_layer = layers.Dense(5, activation=\"softmax\", name=\"output_layer\")(z)\n",
        "\n",
        "# 8. Put together model\n",
        "model_5 = tf.keras.Model(inputs=[line_number_model.input,\n",
        "                                 total_line_model.input,\n",
        "                                 token_model.input, \n",
        "                                 char_model.input],\n",
        "                         outputs=output_layer)"
      ]
    },
    {
      "cell_type": "code",
      "execution_count": 113,
      "metadata": {
        "colab": {
          "base_uri": "https://localhost:8080/"
        },
        "id": "DTbhvl_BQ8uR",
        "outputId": "1e98289f-7892-476d-c1fe-5252fadd7700"
      },
      "outputs": [
        {
          "name": "stdout",
          "output_type": "stream",
          "text": [
            "Model: \"model_7\"\n",
            "__________________________________________________________________________________________________\n",
            " Layer (type)                   Output Shape         Param #     Connected to                     \n",
            "==================================================================================================\n",
            " char_inputs (InputLayer)       [(None, 1)]          0           []                               \n",
            "                                                                                                  \n",
            " token_inputs (InputLayer)      [(None,)]            0           []                               \n",
            "                                                                                                  \n",
            " char_vectorizer (TextVectoriza  (None, 290)         0           ['char_inputs[0][0]']            \n",
            " tion)                                                                                            \n",
            "                                                                                                  \n",
            " USE_encoder (KerasLayer)       (None, 512)          256797824   ['token_inputs[0][0]']           \n",
            "                                                                                                  \n",
            " char_embed (Embedding)         (None, 290, 25)      700         ['char_vectorizer[2][0]']        \n",
            "                                                                                                  \n",
            " dense_7 (Dense)                (None, 128)          65664       ['USE_encoder[2][0]']            \n",
            "                                                                                                  \n",
            " bidirectional_1 (Bidirectional  (None, 64)          14848       ['char_embed[2][0]']             \n",
            " )                                                                                                \n",
            "                                                                                                  \n",
            " token_char_hybrid_embedding (C  (None, 192)         0           ['dense_7[0][0]',                \n",
            " oncatenate)                                                      'bidirectional_1[0][0]']        \n",
            "                                                                                                  \n",
            " line_number_input (InputLayer)  [(None, 15)]        0           []                               \n",
            "                                                                                                  \n",
            " total_lines_input (InputLayer)  [(None, 20)]        0           []                               \n",
            "                                                                                                  \n",
            " dense_10 (Dense)               (None, 256)          49408       ['token_char_hybrid_embedding[0][\n",
            "                                                                 0]']                             \n",
            "                                                                                                  \n",
            " dense_8 (Dense)                (None, 32)           512         ['line_number_input[0][0]']      \n",
            "                                                                                                  \n",
            " dense_9 (Dense)                (None, 32)           672         ['total_lines_input[0][0]']      \n",
            "                                                                                                  \n",
            " dropout_2 (Dropout)            (None, 256)          0           ['dense_10[0][0]']               \n",
            "                                                                                                  \n",
            " token_char_positional_embeddin  (None, 320)         0           ['dense_8[0][0]',                \n",
            " g (Concatenate)                                                  'dense_9[0][0]',                \n",
            "                                                                  'dropout_2[0][0]']              \n",
            "                                                                                                  \n",
            " output_layer (Dense)           (None, 5)            1605        ['token_char_positional_embedding\n",
            "                                                                 [0][0]']                         \n",
            "                                                                                                  \n",
            "==================================================================================================\n",
            "Total params: 256,931,233\n",
            "Trainable params: 133,409\n",
            "Non-trainable params: 256,797,824\n",
            "__________________________________________________________________________________________________\n"
          ]
        }
      ],
      "source": [
        "# Get a summary of this huge model\n",
        "\n",
        "model_5.summary()"
      ]
    },
    {
      "cell_type": "code",
      "execution_count": 114,
      "metadata": {
        "colab": {
          "base_uri": "https://localhost:8080/",
          "height": 856
        },
        "id": "y0PbCKeuQ8uT",
        "outputId": "0504bc3d-500f-4c4a-c147-8bc9e76ae2be"
      },
      "outputs": [
        {
          "data": {
            "image/png": "[encoded data removed]",
            "text/plain": [
              "<IPython.core.display.Image object>"
            ]
          },
          "execution_count": 114,
          "metadata": {},
          "output_type": "execute_result"
        }
      ],
      "source": [
        "# Plot the model architecture to understand its complexities\n",
        "\n",
        "tf.keras.utils.plot_model(model_5, )"
      ]
    },
    {
      "cell_type": "markdown",
      "metadata": {
        "id": "DdkDo3GLQ8uT"
      },
      "source": [
        "Great! We can now proceed with compiling it"
      ]
    },
    {
      "cell_type": "code",
      "execution_count": 115,
      "metadata": {
        "id": "Nqoa_dMTQ8uT"
      },
      "outputs": [],
      "source": [
        "model_5.compile(\n",
        "    loss= tf.keras.losses.CategoricalCrossentropy(label_smoothing=0.2),     # helps avoid overfitting (label_smoothing)\n",
        "    optimizer= tf.keras.optimizers.Adam(),\n",
        "    metrics=[\"accuracy\"] \n",
        ")"
      ]
    },
    {
      "cell_type": "markdown",
      "metadata": {
        "id": "mqLfihjXQ8uU"
      },
      "source": [
        "Now, we need to prepare new datasets for model_5 before fitting it"
      ]
    },
    {
      "cell_type": "code",
      "execution_count": 116,
      "metadata": {
        "colab": {
          "base_uri": "https://localhost:8080/"
        },
        "id": "QnApGiwVU650",
        "outputId": "0b3f32a8-71fa-4277-aa97-98778faa8115"
      },
      "outputs": [
        {
          "data": {
            "text/plain": [
              "(<PrefetchDataset element_spec=((TensorSpec(shape=(None, 15), dtype=tf.float32, name=None), TensorSpec(shape=(None, 20), dtype=tf.float32, name=None), TensorSpec(shape=(None,), dtype=tf.string, name=None), TensorSpec(shape=(None,), dtype=tf.string, name=None)), TensorSpec(shape=(None, 5), dtype=tf.float64, name=None))>,\n",
              " <PrefetchDataset element_spec=((TensorSpec(shape=(None, 15), dtype=tf.float32, name=None), TensorSpec(shape=(None, 20), dtype=tf.float32, name=None), TensorSpec(shape=(None,), dtype=tf.string, name=None), TensorSpec(shape=(None,), dtype=tf.string, name=None)), TensorSpec(shape=(None, 5), dtype=tf.float64, name=None))>)"
            ]
          },
          "execution_count": 116,
          "metadata": {},
          "output_type": "execute_result"
        }
      ],
      "source": [
        "\n",
        "train_pos_char_token_data = tf.data.Dataset.from_tensor_slices((train_line_numbers_one_hot, \n",
        "                                                                train_total_lines_one_hot, \n",
        "                                                                train_sentences, \n",
        "                                                                train_chars)) \n",
        "train_pos_char_token_labels = tf.data.Dataset.from_tensor_slices(train_labels_one_hot) \n",
        "train_pos_char_token_dataset = tf.data.Dataset.zip((train_pos_char_token_data, train_pos_char_token_labels)) \n",
        "train_pos_char_token_dataset = train_pos_char_token_dataset.batch(32).prefetch(tf.data.AUTOTUNE) \n",
        "\n",
        "# Validation dataset\n",
        "val_pos_char_token_data = tf.data.Dataset.from_tensor_slices((val_line_numbers_one_hot,\n",
        "                                                              val_total_lines_one_hot,\n",
        "                                                              val_sentences,\n",
        "                                                              val_chars))\n",
        "val_pos_char_token_labels = tf.data.Dataset.from_tensor_slices(val_labels_one_hot)\n",
        "val_pos_char_token_dataset = tf.data.Dataset.zip((val_pos_char_token_data, val_pos_char_token_labels))\n",
        "val_pos_char_token_dataset = val_pos_char_token_dataset.batch(32).prefetch(tf.data.AUTOTUNE) \n",
        "\n",
        "\n",
        "train_pos_char_token_dataset, val_pos_char_token_dataset"
      ]
    },
    {
      "cell_type": "code",
      "execution_count": 117,
      "metadata": {
        "colab": {
          "base_uri": "https://localhost:8080/"
        },
        "id": "c5OeWcnSQ8uV",
        "outputId": "7d3546a0-cd75-4b80-f61e-9d9c2e08369e"
      },
      "outputs": [
        {
          "data": {
            "text/plain": [
              "(<PrefetchDataset element_spec=((TensorSpec(shape=(None, 15), dtype=tf.float32, name=None), TensorSpec(shape=(None, 20), dtype=tf.float32, name=None), TensorSpec(shape=(None,), dtype=tf.string, name=None), TensorSpec(shape=(None,), dtype=tf.string, name=None)), TensorSpec(shape=(None, 5), dtype=tf.float64, name=None))>,\n",
              " <PrefetchDataset element_spec=((TensorSpec(shape=(None, 15), dtype=tf.float32, name=None), TensorSpec(shape=(None, 20), dtype=tf.float32, name=None), TensorSpec(shape=(None,), dtype=tf.string, name=None), TensorSpec(shape=(None,), dtype=tf.string, name=None)), TensorSpec(shape=(None, 5), dtype=tf.float64, name=None))>)"
            ]
          },
          "execution_count": 117,
          "metadata": {},
          "output_type": "execute_result"
        }
      ],
      "source": [
        "# Output the results\n",
        "\n",
        "train_pos_char_token_dataset, val_pos_char_token_dataset"
      ]
    },
    {
      "cell_type": "code",
      "execution_count": 118,
      "metadata": {
        "colab": {
          "base_uri": "https://localhost:8080/"
        },
        "id": "gjMsf8KIQ8uV",
        "outputId": "f7c29ee5-b0bf-4aa3-afd0-a0f67cef6319"
      },
      "outputs": [
        {
          "name": "stdout",
          "output_type": "stream",
          "text": [
            "Epoch 1/3\n",
            "562/562 [==============================] - 40s 57ms/step - loss: 1.0956 - accuracy: 0.7220 - val_loss: 0.9799 - val_accuracy: 0.8035\n",
            "Epoch 2/3\n",
            "562/562 [==============================] - 29s 52ms/step - loss: 0.9658 - accuracy: 0.8143 - val_loss: 0.9459 - val_accuracy: 0.8308\n",
            "Epoch 3/3\n",
            "562/562 [==============================] - 27s 48ms/step - loss: 0.9485 - accuracy: 0.8237 - val_loss: 0.9360 - val_accuracy: 0.8361\n"
          ]
        }
      ],
      "source": [
        "# Finally, fit the model\n",
        "\n",
        "history_model_5 = model_5.fit(train_pos_char_token_dataset,\n",
        "                              steps_per_epoch=int(0.1 * len(train_pos_char_token_dataset)),\n",
        "                              epochs=3,\n",
        "                              validation_data=val_pos_char_token_dataset,\n",
        "                              validation_steps=int(0.1 * len(val_pos_char_token_dataset)))"
      ]
    },
    {
      "cell_type": "code",
      "execution_count": 119,
      "metadata": {
        "colab": {
          "base_uri": "https://localhost:8080/"
        },
        "id": "9PiH23zPeZIQ",
        "outputId": "c627878c-9bb2-4241-c5da-2e1bc65d663d"
      },
      "outputs": [
        {
          "data": {
            "text/plain": [
              "array([[0.52422297, 0.10704228, 0.01153375, 0.33679056, 0.02041042],\n",
              "       [0.57535017, 0.07873467, 0.04885192, 0.289009  , 0.00805415],\n",
              "       [0.30874217, 0.10037199, 0.12726565, 0.39999545, 0.06362469],\n",
              "       ...,\n",
              "       [0.03985813, 0.09704975, 0.03613631, 0.03480103, 0.7921548 ],\n",
              "       [0.03080122, 0.35213673, 0.08260725, 0.02784631, 0.5066085 ],\n",
              "       [0.17484467, 0.60100925, 0.11941972, 0.0398751 , 0.06485124]],\n",
              "      dtype=float32)"
            ]
          },
          "execution_count": 119,
          "metadata": {},
          "output_type": "execute_result"
        }
      ],
      "source": [
        "# Make predictions\n",
        "model_5_pred_probs = model_5.predict(val_pos_char_token_dataset)\n",
        "model_5_pred_probs"
      ]
    },
    {
      "cell_type": "code",
      "execution_count": 120,
      "metadata": {
        "colab": {
          "base_uri": "https://localhost:8080/"
        },
        "id": "DHa-FjQlehE3",
        "outputId": "599f16b2-0921-4809-a9d3-ccbdda9193da"
      },
      "outputs": [
        {
          "data": {
            "text/plain": [
              "<tf.Tensor: shape=(30212,), dtype=int64, numpy=array([0, 0, 3, ..., 4, 4, 1])>"
            ]
          },
          "execution_count": 120,
          "metadata": {},
          "output_type": "execute_result"
        }
      ],
      "source": [
        "# Convert the probabilities to labels\n",
        "\n",
        "model_5_preds = tf.argmax(model_5_pred_probs, axis=1)\n",
        "model_5_preds"
      ]
    },
    {
      "cell_type": "code",
      "execution_count": 121,
      "metadata": {
        "colab": {
          "base_uri": "https://localhost:8080/"
        },
        "id": "4HqEmrUmemkk",
        "outputId": "c3b91ab5-dccb-4755-e7ff-0e836f05f2a7"
      },
      "outputs": [
        {
          "data": {
            "text/plain": [
              "{'accuracy': 83.57606249172514,\n",
              " 'f1': 0.8347327369617654,\n",
              " 'precision': 0.8345434052852637,\n",
              " 'recall': 0.8357606249172514}"
            ]
          },
          "execution_count": 121,
          "metadata": {},
          "output_type": "execute_result"
        }
      ],
      "source": [
        "# Calculate the results of model 5\n",
        "\n",
        "model_5_results = calculate_results(y_true=val_labels_encoded,\n",
        "                                    y_pred=model_5_preds)\n",
        "model_5_results"
      ]
    },
    {
      "cell_type": "markdown",
      "metadata": {},
      "source": [
        "We can see that this model outperforms our previously best model, namely `model_1`.\n",
        "\n",
        "With an astonishing accuracy of **83.57%**.\n",
        "\n",
        "> Even though the paper I tried to implement got an accuracy of around 90% for this model, there were various factors that I either skipped or changed or even tried my own way. Overall, it was a great experience."
      ]
    }
  ],
  "metadata": {
    "accelerator": "GPU",
    "colab": {
      "name": "skimlit-project.ipynb",
      "provenance": []
    },
    "interpreter": {
      "hash": "aee8b7b246df8f9039afb4144a1f6fd8d2ca17a180786b69acc140d282b71a49"
    },
    "kernelspec": {
      "display_name": "Python 3.10.2 64-bit",
      "language": "python",
      "name": "python3"
    },
    "language_info": {
      "codemirror_mode": {
        "name": "ipython",
        "version": 3
      },
      "file_extension": ".py",
      "mimetype": "text/x-python",
      "name": "python",
      "nbconvert_exporter": "python",
      "pygments_lexer": "ipython3",
      "version": "3.10.2"
    },
    "orig_nbformat": 4
  },
  "nbformat": 4,
  "nbformat_minor": 0
}
